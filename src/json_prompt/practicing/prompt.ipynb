{
 "cells": [
  {
   "cell_type": "code",
   "execution_count": 1,
   "metadata": {},
   "outputs": [],
   "source": [
    "import os\n",
    "from groq import Groq\n",
    "from IPython.display import display, Markdown\n",
    "import wikipediaapi\n",
    "import requests\n",
    "from bs4 import BeautifulSoup\n",
    "from langchain_groq import ChatGroq\n",
    "from langchain.prompts import PromptTemplate\n",
    "from langchain_core.output_parsers import StrOutputParser\n",
    "from langchain_core.prompts import ChatPromptTemplate"
   ]
  },
  {
   "cell_type": "code",
   "execution_count": 2,
   "metadata": {},
   "outputs": [],
   "source": [
    "# Function to fetch Wikipedia page content in HTML format by URL\n",
    "def fetch_wikipedia_page_by_url(url):\n",
    "    headers = {\n",
    "        'User-Agent': 'prompt engineering'\n",
    "    }\n",
    "    response = requests.get(url, headers=headers)\n",
    "    if response.status_code == 200:\n",
    "        html_content = response.text\n",
    "        soup = BeautifulSoup(html_content, 'html.parser')\n",
    "        \n",
    "        # Extract the text content from the HTML, ignoring tables, images, etc.\n",
    "        paragraphs = soup.find_all('p')\n",
    "        text_content = '\\n\\n'.join([para.get_text() for para in paragraphs])\n",
    "        \n",
    "        return text_content\n",
    "    else:\n",
    "        return None"
   ]
  },
  {
   "cell_type": "code",
   "execution_count": 3,
   "metadata": {},
   "outputs": [
    {
     "name": "stdout",
     "output_type": "stream",
     "text": [
      "Content fetched!\n"
     ]
    }
   ],
   "source": [
    "# URL of the Wikipedia page you want to fetch\n",
    "url = \"https://en.wikipedia.org/wiki/Samsung\"\n",
    "\n",
    "# Fetch the HTML content of the page\n",
    "samsung_html_content = fetch_wikipedia_page_by_url(url)\n",
    "\n",
    "# Check if the content was fetched successfully and print it\n",
    "if samsung_html_content:\n",
    "    print(\"Content fetched!\")\n",
    "else:\n",
    "    print(f\"Page at '{url}' not found or could not be fetched.\")"
   ]
  },
  {
   "cell_type": "code",
   "execution_count": 4,
   "metadata": {},
   "outputs": [],
   "source": [
    "from langchain.text_splitter import RecursiveCharacterTextSplitter\n",
    "\n",
    "text = samsung_html_content\n",
    "\n",
    "# Create an instance of RecursiveCharacterTextSplitter\n",
    "splitter = RecursiveCharacterTextSplitter(\n",
    "    chunk_size=10000,\n",
    "    chunk_overlap=2000\n",
    ")\n",
    "\n",
    "# Split the text into chunks and store the output\n",
    "output = splitter.create_documents([text])"
   ]
  },
  {
   "cell_type": "code",
   "execution_count": 5,
   "metadata": {},
   "outputs": [],
   "source": [
    "parser = StrOutputParser()"
   ]
  },
  {
   "cell_type": "code",
   "execution_count": 6,
   "metadata": {},
   "outputs": [],
   "source": [
    "from dotenv import load_dotenv\n",
    "\n",
    "load_dotenv()\n",
    "\n",
    "os.environ[\"GROQ_API_KEY\"]=os.getenv(\"GROQ_API_KEY\")\n",
    "\n",
    "llm = ChatGroq(model = 'llama3-8b-8192')"
   ]
  },
  {
   "cell_type": "code",
   "execution_count": 66,
   "metadata": {},
   "outputs": [],
   "source": [
    "summarize_chunk_prompt = \"\"\"Your task is to summarize each chunk of context you \n",
    "get.\n",
    "All of the chunks are part of a larger article and combine to make a single\n",
    "article.\n",
    "Summarize the given text so that they make one coherent sensible context when \n",
    "combined.\n",
    "Note down the following information as they are most important;\"Name\", \n",
    "\"Founders\", \"Founded\", \"Headquarters\",\"Industry\", \"Products\", \"Services\",\n",
    "\"Revenue\", \"Timeline\"\n",
    "Most importantly make it accurate and concise.\n",
    "{chunk}\n",
    "\"\"\""
   ]
  },
  {
   "cell_type": "code",
   "execution_count": 67,
   "metadata": {},
   "outputs": [],
   "source": [
    "def process_chunk_with_llm(chunk, llm):\n",
    "    prompt_template = ChatPromptTemplate.from_messages(\n",
    "        [(\"user\", summarize_chunk_prompt)]\n",
    "    )\n",
    "    llmchain = prompt_template | llm | parser\n",
    "    return llmchain.invoke(chunk)"
   ]
  },
  {
   "cell_type": "code",
   "execution_count": 69,
   "metadata": {},
   "outputs": [],
   "source": [
    "combine_chunk_prompt = \"\"\"Your task is to produce a detailed and accurate\n",
    "context.\n",
    "Combine the following text in the following manner.\n",
    "Let's think step by step.\n",
    "Step 1: Determine what the context is about.\n",
    "Step 2: Determine how many important informations is present in the context.\n",
    "Step 3: Quantify the relevant informations as much as possible.\n",
    "Step 4: Make sure to document the following information; \"Name\", \"Founders\", \n",
    "\"Founded\", \"Headquarters\",\"Industry\", \"Products\", \"Services\",\"Revenue\", \n",
    "\"Timeline\"\n",
    "Step 4: Write a concise and accurate context encompassing all of the important\n",
    "information in high detail. \n",
    "details.:\\n\\n {combined_text}.\"\"\""
   ]
  },
  {
   "cell_type": "code",
   "execution_count": 70,
   "metadata": {},
   "outputs": [],
   "source": [
    "def combine_chunk_summaries(chunks, llm):\n",
    "    combined_text = \"\\n\\n\".join(chunks)\n",
    "    prompt_template = ChatPromptTemplate.from_messages(\n",
    "        [(\"user\", combine_chunk_prompt)]\n",
    "    )\n",
    "    llmchain = prompt_template | llm | parser\n",
    "    print(len(combined_text))\n",
    "    return llmchain.invoke({\"combined_text\": combined_text})"
   ]
  },
  {
   "cell_type": "code",
   "execution_count": 71,
   "metadata": {},
   "outputs": [],
   "source": [
    "samsung_responses = []\n",
    "for i, chunk in enumerate(output):\n",
    "    samsung_responses.append(process_chunk_with_llm(chunk, llm))"
   ]
  },
  {
   "cell_type": "code",
   "execution_count": 76,
   "metadata": {},
   "outputs": [
    {
     "data": {
      "text/markdown": [
       "Here is a summary of the text:\n",
       "\n",
       "The article discusses Samsung's involvement in several controversies and scandals, including price-fixing in the DRAM market, misleading advertising, and funding pro-government demonstrations in South Korea.\n",
       "\n",
       "**Name:** Samsung\n",
       "**Founders:** Lee Byung-chul (founder of Samsung Group)\n",
       "**Founded:** 1938\n",
       "**Headquarters:** Samsung Group headquarters is located in Samsung Town, Seoul, South Korea\n",
       "**Industry:** Technology, Electronics\n",
       "**Products:** DRAM microchips, smartphones, and other electronic devices\n",
       "**Services:** None mentioned in the text\n",
       "**Revenue:** Not specified\n",
       "**Timeline:**\n",
       "\n",
       "* 1998-2002: Samsung participated in a price cartel for DRAMs and was fined €145,727,000\n",
       "* 1999: Samsung conspired to price-fix DRAM microchips in Canada\n",
       "* 2002: The Canadian government reopened the case and fined Samsung $120 million\n",
       "* 2011: Samsung companies were fined €145,727,000 for being part of a price cartel for DRAMs\n",
       "* 2014: The Canadian government fined Samsung $120 million for price-fixing DRAM microchips\n",
       "* 2016-2018: Samsung made misleading water resistance claims for its smartphones\n",
       "* 2022: Australia's competition and consumer commission fined Samsung AU$14 million for misleading water resistance claims\n",
       "\n",
       "Note that some of this information may not be directly mentioned in the text, but can be inferred or is common knowledge about Samsung."
      ],
      "text/plain": [
       "<IPython.core.display.Markdown object>"
      ]
     },
     "execution_count": 76,
     "metadata": {},
     "output_type": "execute_result"
    }
   ],
   "source": [
    "Markdown(samsung_responses[-1])"
   ]
  },
  {
   "cell_type": "code",
   "execution_count": 73,
   "metadata": {},
   "outputs": [],
   "source": [
    "def save_texts_to_file(texts, file_path):\n",
    "    \"\"\"\n",
    "    Save a list of texts to a file.\n",
    "\n",
    "    Parameters:\n",
    "    - texts (list of str): List of text strings to be saved.\n",
    "    - file_path (str): Path to the file where the texts will be saved.\n",
    "    \"\"\"\n",
    "    # Combine the list of texts into a single string\n",
    "    combined_text = \"\\n\".join(texts)\n",
    "\n",
    "    # Open the file in write mode and write the combined text\n",
    "    with open(file_path, 'w') as file:\n",
    "        file.write(combined_text)\n",
    "\n",
    "    print(f\"Texts successfully saved to {file_path}\")"
   ]
  },
  {
   "cell_type": "code",
   "execution_count": 74,
   "metadata": {},
   "outputs": [
    {
     "name": "stdout",
     "output_type": "stream",
     "text": [
      "Texts successfully saved to samsung_chunks.txt\n"
     ]
    }
   ],
   "source": [
    "save_texts_to_file(samsung_responses, \"samsung_chunks.txt\")"
   ]
  },
  {
   "cell_type": "code",
   "execution_count": 75,
   "metadata": {},
   "outputs": [
    {
     "name": "stdout",
     "output_type": "stream",
     "text": [
      "12997\n"
     ]
    }
   ],
   "source": [
    "context = combine_chunk_summaries(samsung_responses, llm)"
   ]
  },
  {
   "cell_type": "code",
   "execution_count": 77,
   "metadata": {},
   "outputs": [
    {
     "data": {
      "text/plain": [
       "3180"
      ]
     },
     "execution_count": 77,
     "metadata": {},
     "output_type": "execute_result"
    }
   ],
   "source": [
    "len(context)"
   ]
  },
  {
   "cell_type": "code",
   "execution_count": 78,
   "metadata": {},
   "outputs": [
    {
     "data": {
      "text/markdown": [
       "Based on the provided text, here is a detailed and accurate context for Samsung Group:\n",
       "\n",
       "**Name:** Samsung Group\n",
       "\n",
       "**Founders:** Lee Byung-chul\n",
       "\n",
       "**Founded:** 1938\n",
       "\n",
       "**Headquarters:** Samsung Digital City, Suwon, South Korea\n",
       "\n",
       "**Industry:** Conglomerate, Electronics, Construction, Shipbuilding, Insurance, Securities, Retail, Aerospace, Chemicals\n",
       "\n",
       "**Products:** Electronics devices, semiconductors, mobile phones, construction equipment, shipbuilding materials, insurance services, securities, retail products, aircraft engines and gas turbines, chemicals\n",
       "\n",
       "**Services:** Trading, insurance, securities, retail, construction, shipbuilding, aerospace, chemicals research and development\n",
       "\n",
       "**Revenue:** Not specified\n",
       "\n",
       "**Timeline:**\n",
       "\n",
       "* 1938: Founded by Lee Byung-chul as a trading company\n",
       "* 1947: Moved headquarters to Seoul\n",
       "* Late 1960s: Entered electronics industry\n",
       "* 1980: Acquired Hanguk Jeonja Tongsin and entered telecommunications hardware\n",
       "* 1982: Built television assembly plant in Portugal\n",
       "* 1984: Built plant in New York\n",
       "* 1985: Built plant in Tokyo\n",
       "* 1987: Lee Byung-chul died, Samsung Group was separated into five business groups\n",
       "* 1987: United States International Trade Commission found Samsung Group sold computer chips without licenses\n",
       "* 1990: Samsung increasingly globalized its activities and electronics\n",
       "* 1992: Became the world's largest producer of memory chips\n",
       "* 1993: Lee Kun-hee sold off subsidiaries and downsized the company\n",
       "* 1995: Created its first liquid-crystal display screen\n",
       "* 1996: Built facility in Austin, Texas\n",
       "* 1997: Survived the Asian financial crisis relatively unharmed\n",
       "* 2000: Opened development center in Warsaw, Poland\n",
       "* 2006: Established S-LCD joint venture with Sony\n",
       "* 2008: Launched original Samsung Solstice line of smartphones\n",
       "* 2010: Renault Samsung was 80.1 per cent owned by Renault and 19.9 per cent owned by Samsung\n",
       "* 2012: Invested more than US$13 billion in Austin facility\n",
       "* 2016: Acquired stake of Sony in S-LCD joint venture\n",
       "\n",
       "Additional information:\n",
       "\n",
       "* Samsung Group is a conglomerate with diverse businesses and subsidiaries across various industries.\n",
       "* The company was founded by Lee Byung-chul in 1938 as a trading company.\n",
       "* Samsung has expanded its operations globally and has a significant presence in the electronics, construction, shipbuilding, insurance, securities, retail, aerospace, and chemicals industries.\n",
       "* The company has a diverse range of products and services, including electronics devices, semiconductors, mobile phones, construction equipment, shipbuilding materials, insurance services, securities, retail products, aircraft engines and gas turbines, and chemicals.\n",
       "* Samsung has a strong research and development focus, with a significant investment in R&D.\n",
       "* The company has faced several controversies and scandals over the years, including price-fixing in the DRAM market, misleading advertising, and funding pro-government demonstrations in South Korea.\n",
       "\n",
       "Overall, Samsung Group is a major conglomerate with a diverse range of businesses and operations across various industries. The company has a strong presence in the global market and has faced several challenges and controversies over the years."
      ],
      "text/plain": [
       "<IPython.core.display.Markdown object>"
      ]
     },
     "execution_count": 78,
     "metadata": {},
     "output_type": "execute_result"
    }
   ],
   "source": [
    "Markdown(context)"
   ]
  },
  {
   "cell_type": "code",
   "execution_count": 184,
   "metadata": {},
   "outputs": [],
   "source": [
    "extract_json_prompt = \"\"\"Your task is to extract information from the given \n",
    "context as a JSON object in JSON format and cite your resources.\n",
    "Let's think step-by-step.\n",
    "###\n",
    "Context: {context}\n",
    "###\n",
    "Instruction:\n",
    "You need to summarize the provided context in JSON format. Follow these \n",
    "steps to ensure accuracy:\n",
    "Step 1. Understand the Context: Read and comprehend the provided context\n",
    "thoroughly.\n",
    "Step 2. Extract the following information from the context; \"Name\", \"Founders\", \n",
    "\"Founded\", \"Headquarters\",\"Industry\", \"Products\", \"Services\", \"Revenue\", \n",
    "\"Timeline\".\n",
    "Step 3. All Integer values should be of Integer object type represented by only\n",
    "numbers. Avoid adding alphabets and other characters to integer values.\n",
    "Step 4. All date data should be in the format DD-MM-YYYY\n",
    "Step 5. If any of the details are not available in the context you should \n",
    "display null in the value.\n",
    "Step 6. Review the information to ensure that all relevant details are included \n",
    "and accurately represented.\n",
    "Step 7. Ensure that the JSON format is correct.\n",
    "Step 8. The timeline format should be \"<year_the_event_happend>\": \"<the_event>\"\n",
    "Step 9. Any lists should be in [<lists>] format\n",
    "Step 10. Display the enture extracted information in a JSON format.\n",
    "Step 11. Display the sentences belonging to the context showing \n",
    "from where you extracted the information present in the JSON object.\n",
    "REMEMBER TO ONLY OUTPUT THE JSON OBJECT! ONLY OUTPUT INFORMATION PRESENT IN\n",
    "THE CONTEXT.\"\"\""
   ]
  },
  {
   "cell_type": "code",
   "execution_count": 185,
   "metadata": {},
   "outputs": [],
   "source": [
    "def extract_json(context):\n",
    "    \"\"\"\n",
    "    Extracts and summarizes information from the given context in JSON format.\n",
    "\n",
    "    The function processes the provided context using a language model (LLM) \n",
    "    and extracts key details such as \"Name\", \"Founders\", \"Founded\", \n",
    "    \"Headquarters\", \"Industry\", \"Products\", \"Services\", \"Revenue\", and \n",
    "    \"Timeline\". If any of these details are not available in the context, the \n",
    "    function assigns a value of null to them. The final output is a JSON object\n",
    "    with all relevant information.\n",
    "\n",
    "    Parameters:\n",
    "    context (str): The context containing information to be extracted \n",
    "    and summarized.\n",
    "\n",
    "    Returns:\n",
    "    None: Displays the extracted information as a JSON object.\n",
    "    \"\"\"\n",
    "    prompt_template = ChatPromptTemplate.from_messages(\n",
    "    [(\"user\", extract_json_prompt)]\n",
    "    )\n",
    "    llm_chain = prompt_template | llm | parser\n",
    "    display(Markdown(llm_chain.invoke({\"context\": context})))"
   ]
  },
  {
   "cell_type": "code",
   "execution_count": 145,
   "metadata": {},
   "outputs": [
    {
     "data": {
      "text/markdown": [
       "Here is the extracted information in JSON format:\n",
       "\n",
       "```\n",
       "{\n",
       "    \"Name\": \"Samsung Group\",\n",
       "    \"Founders\": \"Lee Byung-chul\",\n",
       "    \"Founded\": 1938,\n",
       "    \"Headquarters\": \"Samsung Digital City, Suwon, South Korea\",\n",
       "    \"Industry\": [\"Conglomerate\", \"Electronics\", \"Construction\", \"Shipbuilding\", \"Insurance\", \"Securities\", \"Retail\", \"Aerospace\", \"Chemicals\"],\n",
       "    \"Products\": [\"Electronics devices\", \"semiconductors\", \"mobile phones\", \"construction equipment\", \"shipbuilding materials\", \"insurance services\", \"securities\", \"retail products\", \"aircraft engines and gas turbines\", \"chemicals\"],\n",
       "    \"Services\": [\"Trading\", \"insurance\", \"securities\", \"retail\", \"construction\", \"shipbuilding\", \"aerospace\", \"chemicals research and development\"],\n",
       "    \"Revenue\": null,\n",
       "    \"Timeline\": {\n",
       "        \"1938\": \"Founded by Lee Byung-chul as a trading company\",\n",
       "        \"1947\": \"Moved headquarters to Seoul\",\n",
       "        \"Late 1960s\": \"Entered electronics industry\",\n",
       "        \"1980\": \"Acquired Hanguk Jeonja Tongsin and entered telecommunications hardware\",\n",
       "        \"1982\": \"Built television assembly plant in Portugal\",\n",
       "        \"1984\": \"Built plant in New York\",\n",
       "        \"1985\": \"Built plant in Tokyo\",\n",
       "        \"1987\": \"Lee Byung-chul died, Samsung Group was separated into five business groups\",\n",
       "        \"1987\": \"United States International Trade Commission found Samsung Group sold computer chips without licenses\",\n",
       "        \"1990\": \"Samsung increasingly globalized its activities and electronics\",\n",
       "        \"1992\": \" Became the world's largest producer of memory chips\",\n",
       "        \"1993\": \"Lee Kun-hee sold off subsidiaries and downsized the company\",\n",
       "        \"1995\": \"Created its first liquid-crystal display screen\",\n",
       "        \"1996\": \"Built facility in Austin, Texas\",\n",
       "        \"1997\": \"Survived the Asian financial crisis relatively unharmed\",\n",
       "        \"2000\": \"Opened development center in Warsaw, Poland\",\n",
       "        \"2006\": \"Established S-LCD joint venture with Sony\",\n",
       "        \"2008\": \"Launched original Samsung Solstice line of smartphones\",\n",
       "        \"2010\": \"Renault Samsung was 80.1 per cent owned by Renault and 19.9 per cent owned by Samsung\",\n",
       "        \"2012\": \"Invested more than US$13 billion in Austin facility\",\n",
       "        \"2016\": \"Acquired stake of Sony in S-LCD joint venture\"\n",
       "    }\n",
       "}\n",
       "```\n",
       "\n",
       "Note that I did not include the additional information section, as it is not strictly necessary to extract for this task."
      ],
      "text/plain": [
       "<IPython.core.display.Markdown object>"
      ]
     },
     "metadata": {},
     "output_type": "display_data"
    }
   ],
   "source": [
    "extract_json(context)"
   ]
  },
  {
   "cell_type": "code",
   "execution_count": 86,
   "metadata": {},
   "outputs": [
    {
     "name": "stdout",
     "output_type": "stream",
     "text": [
      "Content fetched!\n"
     ]
    }
   ],
   "source": [
    "# URL of the Wikipedia page you want to fetch\n",
    "url = \"https://en.wikipedia.org/wiki/Apple_Inc.\"\n",
    "\n",
    "# Fetch the HTML content of the page\n",
    "apple_html_content = fetch_wikipedia_page_by_url(url)\n",
    "\n",
    "# Check if the content was fetched successfully and print it\n",
    "if apple_html_content:\n",
    "    print(\"Content fetched!\")\n",
    "else:\n",
    "    print(f\"Page at '{url}' not found or could not be fetched.\")\n"
   ]
  },
  {
   "cell_type": "code",
   "execution_count": 87,
   "metadata": {},
   "outputs": [],
   "source": [
    "output_apple = splitter.create_documents([apple_html_content])"
   ]
  },
  {
   "cell_type": "code",
   "execution_count": 88,
   "metadata": {},
   "outputs": [],
   "source": [
    "responses_apple = []\n",
    "for i, chunk in enumerate(output_apple):\n",
    "    responses_apple.append(process_chunk_with_llm(chunk, llm))"
   ]
  },
  {
   "cell_type": "code",
   "execution_count": 89,
   "metadata": {},
   "outputs": [
    {
     "name": "stdout",
     "output_type": "stream",
     "text": [
      "Texts successfully saved to apple_chunks.txt\n"
     ]
    }
   ],
   "source": [
    "save_texts_to_file(responses_apple, \"apple_chunks.txt\")"
   ]
  },
  {
   "cell_type": "code",
   "execution_count": 90,
   "metadata": {},
   "outputs": [
    {
     "data": {
      "text/markdown": [
       "Here is a summarized version of the text, combining the chunks to form a single coherent article:\n",
       "\n",
       "**Name:** Apple\n",
       "\n",
       "**Founders:** Steve Jobs, Steve Wozniak, and Ronald Wayne\n",
       "\n",
       "**Founded:** April 1, 1976\n",
       "\n",
       "**Headquarters:** Cupertino, California, USA\n",
       "\n",
       "**Industry:** Technology, Electronics\n",
       "\n",
       "**Products:** iPhones, iPads, iPods, and other electronic devices\n",
       "\n",
       "**Services:** Design, manufacturing, and distribution of electronic products\n",
       "\n",
       "**Revenue:** Not specified in this article, but Apple's annual revenue has been over $200 billion in recent years\n",
       "\n",
       "**Timeline:**\n",
       "\n",
       "* 2006: Reports of poor working conditions and long hours for employees in Apple's supply chain in Shenzhen, China\n",
       "* 2007: Apple starts yearly audits of suppliers regarding worker's rights and raises standards\n",
       "* 2010: Foxconn suicides occur, resulting in 14 deaths; Apple investigates and commits to implementing changes\n",
       "* 2011: Apple admits that suppliers' child labor practices in China have worsened\n",
       "* 2014: BBC investigation finds excessive hours and labor violations persist in Apple's supply chain\n",
       "* 2014: Institute for Global Labour and Human Rights publishes report on inhumane conditions at Zhen Ding Technology factory in Shenzhen, China\n",
       "* 2019: Reports of Foxconn managers using rejected parts to build iPhones and Apple investigating the issue\n",
       "\n",
       "**Additional notes:**\n",
       "\n",
       "* Apple has faced repeated criticism for its treatment of workers in its supply chain, particularly in China\n",
       "* The company has implemented measures to address these concerns, including yearly audits and inspections of suppliers' facilities\n",
       "* Despite these efforts, reports of labor violations and poor working conditions continue to emerge in Apple's supply chain"
      ],
      "text/plain": [
       "<IPython.core.display.Markdown object>"
      ]
     },
     "execution_count": 90,
     "metadata": {},
     "output_type": "execute_result"
    }
   ],
   "source": [
    "Markdown(responses_apple[-1])"
   ]
  },
  {
   "cell_type": "code",
   "execution_count": 98,
   "metadata": {},
   "outputs": [
    {
     "name": "stdout",
     "output_type": "stream",
     "text": [
      "19489\n"
     ]
    }
   ],
   "source": [
    "context_apple = combine_chunk_summaries(responses_apple, llm)"
   ]
  },
  {
   "cell_type": "code",
   "execution_count": 99,
   "metadata": {},
   "outputs": [
    {
     "data": {
      "text/plain": [
       "2550"
      ]
     },
     "execution_count": 99,
     "metadata": {},
     "output_type": "execute_result"
    }
   ],
   "source": [
    "len(context_apple)"
   ]
  },
  {
   "cell_type": "code",
   "execution_count": 100,
   "metadata": {},
   "outputs": [
    {
     "data": {
      "text/markdown": [
       "Based on the provided texts, I have combined the information to create a detailed and accurate context. Here is the summary:\n",
       "\n",
       "**Name:** Apple Inc.\n",
       "\n",
       "**Founders:** Steve Jobs, Steve Wozniak, and Ronald Wayne\n",
       "\n",
       "**Founded:** April 1, 1976\n",
       "\n",
       "**Headquarters:** Cupertino, California, USA\n",
       "\n",
       "**Industry:** Technology, Consumer Electronics\n",
       "\n",
       "**Products:** Macintosh computers, iPods, iPhones, iPads, Apple Watches, Apple TVs, AirPods, and other electronic devices\n",
       "\n",
       "**Services:** Online store, Apple Pay, Apple Music, Apple TV+, and other services\n",
       "\n",
       "**Revenue:** Over $394 billion in 2022\n",
       "\n",
       "**Timeline:**\n",
       "\n",
       "* 1976: Apple founded by Steve Jobs, Steve Wozniak, and Ronald Wayne\n",
       "* 1984: Macintosh introduced with the \"1984\" Super Bowl commercial\n",
       "* 1997: Apple relaunched its online store and opened the first two physical stores\n",
       "* 2001: Apple Stores expanded globally\n",
       "* 2011: Steve Jobs passes away\n",
       "* 2012: France fined Apple €1.1 billion for colluding with wholesalers\n",
       "* 2014: Apple announces its plan to become carbon neutral across its entire business, manufacturing supply chain, and product life cycle by 2030\n",
       "* 2020: Apple's share price briefly tops $467.77, making it the first US company with a market capitalization of $2 trillion\n",
       "* 2022: Apple becomes the first publicly traded US company to be valued at over $3 trillion\n",
       "\n",
       "**Additional Notes:**\n",
       "\n",
       "* Apple has a strong brand and is known for its innovative products and services\n",
       "* The company has a significant retail presence, with over 500 stores globally\n",
       "* Apple has taken a pro-privacy stance, introducing features such as encryption and differential privacy\n",
       "* The company has faced criticism and lawsuits over its practices, including allegations of colluding with wholesalers and tracking users' data\n",
       "* Apple has also faced controversy over its biometric authentication technology and child sexual abuse material detection features\n",
       "\n",
       "I have documented the following information:\n",
       "\n",
       "* Name: Apple Inc.\n",
       "* Founders: Steve Jobs, Steve Wozniak, and Ronald Wayne\n",
       "* Founded: April 1, 1976\n",
       "* Headquarters: Cupertino, California, USA\n",
       "* Industry: Technology, Consumer Electronics\n",
       "* Products: Macintosh computers, iPods, iPhones, iPads, Apple Watches, Apple TVs, AirPods, and other electronic devices\n",
       "* Services: Online store, Apple Pay, Apple Music, Apple TV+, and other services\n",
       "* Revenue: Over $394 billion in 2022\n",
       "* Timeline: 1976-present\n",
       "* Additional Notes: Apple's brand, retail presence, pro-privacy stance, and controversies\n",
       "\n",
       "Please let me know if you need any further assistance or modifications to the summary."
      ],
      "text/plain": [
       "<IPython.core.display.Markdown object>"
      ]
     },
     "execution_count": 100,
     "metadata": {},
     "output_type": "execute_result"
    }
   ],
   "source": [
    "Markdown(context_apple)"
   ]
  },
  {
   "cell_type": "code",
   "execution_count": 146,
   "metadata": {},
   "outputs": [
    {
     "data": {
      "text/markdown": [
       "Here is the extracted information in JSON format:\n",
       "\n",
       "```\n",
       "{\n",
       "    \"Name\": \"Apple Inc.\",\n",
       "    \"Founders\": [\"Steve Jobs\", \"Steve Wozniak\", \"Ronald Wayne\"],\n",
       "    \"Founded\": \"01-04-1976\",\n",
       "    \"Headquarters\": [\"Cupertino, California, USA\", \"Cork, Ireland\"],\n",
       "    \"Industry\": [\"Technology\", \"Consumer Electronics\", \"Software\", \"Services\"],\n",
       "    \"Products\": [\"iPhone\", \"iPad\", \"Mac\", \"Apple Watch\", \"Vision Pro\", \"Apple TV\", \"Software (iOS, iPadOS, macOS, watchOS, tvOS, visionOS)\", \"Earlier Products (Macintosh, Apple II, LaserWriter, PageMaker, PowerBook, Newton, QuickTake, PowerCD, Pippin, eWorld, Apple Interactive Television Box, iPod, AirPods, Beats, HomePod, Pro Display XDR, Apple Studio Display, Magic Mouse, Magic Trackpad, Magic Keyboard, Vision Pro Mixed Reality Headset)\"],\n",
       "    \"Services\": [\"Apple Card\", \"Apple Pay\", \"iCloud\", \"Apple Music\", \"Apple TV+\", \"Desktop Publishing\", \"Software Development\", \"Online Services\", \"iTunes Store\", \"App Store\", \"Apple Music\", \"Apple TV+\", \"Apple Arcade\", \"Advertising\", \"AppleCare+\", \"iCloud+\", \"Payment Services\", \"Digital Content Services\"],\n",
       "    \"Revenue\": {\n",
       "        \"2022\": 394300000000,\n",
       "        \"2009\": 8160000000\n",
       "    },\n",
       "    \"Timeline\": {\n",
       "        \"1976\": \"Apple Computer Company founded by Jobs, Wozniak, and Wayne\",\n",
       "        \"1977\": \"Incorporated as Apple Computer, Inc.\",\n",
       "        \"1980\": \"Apple II introduced\",\n",
       "        \"1984\": \"Macintosh introduced\",\n",
       "        \"1985\": \"Steve Jobs and Steve Wozniak depart Apple\",\n",
       "        \"1989\": \"Apple introduces the Macintosh Classic, LC, and IIsi\",\n",
       "        \"1990\": \"Apple introduces the PowerBook laptop and System 7 operating system\",\n",
       "        \"1993\": \"The Apple II series is discontinued\",\n",
       "        \"1994\": \"Apple, IBM, and Motorola form the AIM alliance\",\n",
       "        \"1996\": \"Apple acquires NeXT, bringing Steve Jobs back to the company\",\n",
       "        \"1997\": \"Steve Jobs becomes interim CEO\",\n",
       "        \"2001\": \"Steve Jobs returns as CEO\",\n",
       "        \"2006\": \"Apple completes its transition to Intel processors\",\n",
       "        \"2007\": \"Apple renames itself Apple Inc. and introduces the iPhone and Apple TV\",\n",
       "        \"2008\": \"Apple launches the App Store\",\n",
       "        \"2009\": \"Steve Jobs takes a medical leave of absence\",\n",
       "        \"2010\": \"Apple introduces the iPad\",\n",
       "        \"2011\": \"Steve Jobs resigns\",\n",
       "        \"2012\": \"Apple's market capitalization reaches a record $624 billion\",\n",
       "        \"2014\": \"Apple acquires Beats Electronics\",\n",
       "        \"2016\": \"Apple announces that over one billion Apple devices are in active use worldwide\",\n",
       "        \"2017\": \"Apple announces the HomePod and acquires Shazam\",\n",
       "        \"2020\": \"Apple's share price briefly tops $467.77, making it the first US company with a market capitalization of $2 trillion\",\n",
       "        \"2022\": \"Apple becomes the largest technology company by revenue, with $394.3 billion\",\n",
       "        \"2023\": \"Apple launches a buy now, pay later service called 'Apple Pay Later'\"\n",
       "    }\n",
       "}\n",
       "```\n",
       "\n",
       "Sentences extracted from the JSON object:\n",
       "\n",
       "* \"Apple Computer Company founded by Jobs, Wozniak, and Wayne\" - from the \"Timeline\" section\n",
       "* \"Incorporated as Apple Computer, Inc.\" - from the \"Timeline\" section\n",
       "* \"Apple II introduced\" - from the \"Timeline\" section\n",
       "* \"Macintosh introduced\" - from the \"Timeline\" section\n",
       "* \"Steve Jobs and Steve Wozniak depart Apple\" - from the \"Timeline\" section\n",
       "* \"Apple introduces the Macintosh Classic, LC, and IIsi\" - from the \"Timeline\" section\n",
       "* \"Apple introduces the PowerBook laptop and System 7 operating system\" - from the \"Timeline\" section\n",
       "* \"The Apple II series is discontinued\" - from the \"Timeline\" section\n",
       "* \"Apple, IBM, and Motorola form the AIM alliance\" - from the \"Timeline\" section\n",
       "* \"Apple acquires NeXT, bringing Steve Jobs back to the company\" - from the \"Timeline\" section\n",
       "* \"Steve Jobs becomes interim CEO\" - from the \"Timeline\" section\n",
       "* \"Steve Jobs returns as CEO\" - from the \"Timeline\" section\n",
       "* \"Apple completes its transition to Intel processors\" - from the \"Timeline\" section\n",
       "* \"Apple renames itself Apple Inc. and introduces the iPhone and Apple TV\" - from the \"Timeline\" section\n",
       "* \"Apple launches the App Store\" - from the \"Timeline\" section\n",
       "* \"Steve Jobs takes a medical leave of absence\" - from the \"Timeline\" section\n",
       "* \"Apple introduces the iPad\" - from the \"Timeline\" section\n",
       "* \"Steve Jobs resigns\" - from the \"Timeline\" section\n",
       "* \"Apple's market capitalization reaches a record $624 billion\" - from the \"Timeline\" section\n",
       "* \"Apple acquires Beats Electronics\" - from the \"Timeline\" section\n",
       "* \"Apple announces that over one billion Apple devices are in active use worldwide\" - from the \"Timeline\" section\n",
       "* \"Apple announces the HomePod and acquires Shazam\" - from the \"Timeline\" section\n",
       "* \"Apple's share price briefly tops $467.77, making it the first US company with a market capitalization of $2 trillion\" - from the \"Timeline\" section\n",
       "* \"Apple becomes the largest technology company by revenue, with $394.3 billion\" - from the \"Timeline\" section\n",
       "* \"Apple launches a buy now, pay later service called 'Apple Pay Later'\" - from the \"Timeline\" section"
      ],
      "text/plain": [
       "<IPython.core.display.Markdown object>"
      ]
     },
     "metadata": {},
     "output_type": "display_data"
    }
   ],
   "source": [
    "extract_json(context_apple)"
   ]
  },
  {
   "cell_type": "markdown",
   "metadata": {},
   "source": [
    "#### The context is not passing at all, although it was working and being passed before."
   ]
  },
  {
   "cell_type": "markdown",
   "metadata": {},
   "source": [
    "## Refinement"
   ]
  },
  {
   "cell_type": "code",
   "execution_count": 193,
   "metadata": {},
   "outputs": [],
   "source": [
    "refine_prompt = \"\"\"Your task is to create a comprehensive and coherent \n",
    "summary that comprises of all the important and introductory details of the \n",
    "company.\n",
    "You will be given a context and a new chunk of information. Your job is to \n",
    "merge the important details from both the context and the new chunk of \n",
    "information.\n",
    "Ensure that the final summary retains all critical points and provides a clear,\n",
    "concise, and accurate representation of the combined information.\n",
    "Let's think step-by-step.\n",
    "Follow these steps:\n",
    "Step 1. Carefully read the provided context to understand all the important \n",
    "points.\n",
    "Step 2. Analyze the new chunk of information and identify key details that add \n",
    "to or update the context.\n",
    "Step 3. Note down these important details if available: \"Name\", \"Founders\", \n",
    "\"Founded\", \"Headquarters\",\"Industry\", \"Products\", \"Services\", \"Revenue\", \n",
    "\"Timeline\"\n",
    "Step 4. While noting down timeline, events that happened in the same year\n",
    "should be grouped together. For eg: <year>: <event_1>, <event_2>\n",
    "Step 5. Add the new information with the existing context, ensuring that no \n",
    "important detail is omitted. Be as detailed as possible.\n",
    "Step 6. Ensure the final summary reads naturally and maintains logical flow and \n",
    "consistency.\n",
    "Step 7. Do not forget important details like revenue, figures, dates, or any \n",
    "other critical information provided in the context or new information.\n",
    "Step 8. Create a new context that is clear, coherent, and concise, capturing \n",
    "all significant details from both the previous context and the new information\n",
    "from the given chunk.\n",
    "Step 9. Ensure the new reads well and that there are no repeating information.\n",
    "###\n",
    "Context: {context}\n",
    "###\n",
    "\n",
    "###\n",
    "Chunke: {chunk}\n",
    "###\"\"\""
   ]
  },
  {
   "cell_type": "code",
   "execution_count": 194,
   "metadata": {},
   "outputs": [],
   "source": [
    "def refine(chunk, context):\n",
    "    \"\"\"\n",
    "    Refines and merges important details from a given context and a new chunk \n",
    "    of information to create a comprehensive and coherent summary.\n",
    "    The function processes the context and the new chunk of information using a\n",
    "    language model (LLM) and returns a detailed and accurate summary that \n",
    "    includes all critical points.\n",
    "\n",
    "    Parameters:\n",
    "    chunk (str): New chunk of information to be integrated with the context.\n",
    "    context (str): Existing context that provides background or previous\n",
    "    information.\n",
    "\n",
    "    Returns:\n",
    "    str: A refined summary that integrates information from both the context \n",
    "    and the new chunk.\n",
    "    \"\"\"\n",
    "    prompt_template = ChatPromptTemplate.from_messages(\n",
    "        [(\"user\", refine_prompt)]\n",
    "    )\n",
    "    llmchain = prompt_template | llm | parser\n",
    "    return llmchain.invoke({\"context\": context, \"chunk\": chunk})"
   ]
  },
  {
   "cell_type": "code",
   "execution_count": 195,
   "metadata": {},
   "outputs": [],
   "source": [
    "context_samsung = \"\"\n",
    "for response in samsung_responses:\n",
    "    context_samsung = refine(response, context_samsung)"
   ]
  },
  {
   "cell_type": "code",
   "execution_count": 120,
   "metadata": {},
   "outputs": [
    {
     "data": {
      "text/plain": [
       "3125"
      ]
     },
     "execution_count": 120,
     "metadata": {},
     "output_type": "execute_result"
    }
   ],
   "source": [
    "len(context_samsung)"
   ]
  },
  {
   "cell_type": "code",
   "execution_count": 148,
   "metadata": {},
   "outputs": [
    {
     "data": {
      "text/markdown": [
       "Based on the provided context and the new chunk of information, I will create a comprehensive and coherent summary that retains all critical points and provides a clear, concise, and accurate representation of the combined information.\n",
       "\n",
       "Here is the merged summary:\n",
       "\n",
       "**Name:** Samsung Group\n",
       "\n",
       "**Founders:** Lee Byung-chul\n",
       "\n",
       "**Founded:** 1938\n",
       "\n",
       "**Headquarters:** Samsung Digital City, Suwon, South Korea\n",
       "\n",
       "**Industry:** Conglomerate, Electronics, Construction, Shipbuilding, Insurance, Securities, Retail, Aerospace, Chemicals\n",
       "\n",
       "**Products:** Electronics devices, semiconductors, mobile phones, construction equipment, shipbuilding materials, insurance services, securities, retail products, aircraft engines and gas turbines, chemicals\n",
       "\n",
       "**Services:** Trading, insurance, securities, retail, construction, shipbuilding, aerospace, chemicals research and development\n",
       "\n",
       "**Revenue:** Not specified\n",
       "\n",
       "**Timeline:**\n",
       "\n",
       "* 1938: Founded by Lee Byung-chul as a trading company\n",
       "* 1947: Moved headquarters to Seoul\n",
       "* Late 1960s: Entered electronics industry\n",
       "* 1980: Acquired Hanguk Jeonja Tongsin and entered telecommunications hardware\n",
       "* 1982: Built television assembly plant in Portugal\n",
       "* 1984: Built plant in New York\n",
       "* 1985: Built plant in Tokyo\n",
       "* 1987: Lee Byung-chul died, Samsung Group was separated into five business groups\n",
       "* 1987: United States International Trade Commission found Samsung Group sold computer chips without licenses\n",
       "* 1990: Samsung increasingly globalized its activities and electronics\n",
       "* 1992: Became the world's largest producer of memory chips\n",
       "* 1993: Lee Kun-hee sold off subsidiaries and downsized the company\n",
       "* 1995: Created its first liquid-crystal display screen\n",
       "* 1996: Built facility in Austin, Texas\n",
       "* 1997: Survived the Asian financial crisis relatively unharmed\n",
       "* 2000: Opened development center in Warsaw, Poland\n",
       "* 2006: Established S-LCD joint venture with Sony\n",
       "* 2008: Launched original Samsung Solstice line of smartphones\n",
       "* 2010: Renault Samsung was 80.1 per cent owned by Renault and 19.9 per cent owned by Samsung\n",
       "* 2012: Invested more than US$13 billion in Austin facility\n",
       "* 2016: Acquired stake of Sony in S-LCD joint venture\n",
       "* 1998-2002: Participated in a price cartel for DRAMs and was fined €145,727,000\n",
       "* 1999: Conspired to price-fix DRAM microchips in Canada\n",
       "* 2002: The Canadian government reopened the case and fined Samsung $120 million\n",
       "* 2011: Samsung companies were fined €145,727,000 for being part of a price cartel for DRAMs\n",
       "* 2014: The Canadian government fined Samsung $120 million for price-fixing DRAM microchips\n",
       "* 2016-2018: Made misleading water resistance claims for its smartphones\n",
       "* 2022: Australia's competition and consumer commission fined Samsung AU$14 million for misleading water resistance claims\n",
       "\n",
       "Overall, Samsung Group is a major conglomerate with a diverse range of businesses and operations across various industries. The company has a strong presence in the global market and has faced several challenges and controversies over the years, including price-fixing in the DRAM market, misleading advertising, and funding pro-government demonstrations in South Korea."
      ],
      "text/plain": [
       "<IPython.core.display.Markdown object>"
      ]
     },
     "execution_count": 148,
     "metadata": {},
     "output_type": "execute_result"
    }
   ],
   "source": [
    "Markdown(context_samsung)"
   ]
  },
  {
   "cell_type": "code",
   "execution_count": 147,
   "metadata": {},
   "outputs": [
    {
     "data": {
      "text/markdown": [
       "Here is the extracted information in JSON format:\n",
       "```\n",
       "{\n",
       "  \"Name\": \"Samsung Group\",\n",
       "  \"Founders\": \"Lee Byung-chul\",\n",
       "  \"Founded\": 1938,\n",
       "  \"Headquarters\": \"Samsung Digital City, Suwon, South Korea\",\n",
       "  \"Industry\": \"Conglomerate, Electronics, Construction, Shipbuilding, Insurance, Securities, Retail, Aerospace, Chemicals\",\n",
       "  \"Products\": [\n",
       "    \"Electronics devices\",\n",
       "    \"Semiconductors\",\n",
       "    \"Mobile phones\",\n",
       "    \"Construction equipment\",\n",
       "    \"Shipbuilding materials\",\n",
       "    \"Insurance services\",\n",
       "    \"Securities\",\n",
       "    \"Retail products\",\n",
       "    \"Aircraft engines and gas turbines\",\n",
       "    \"Chemicals\"\n",
       "  ],\n",
       "  \"Services\": [\n",
       "    \"Trading\",\n",
       "    \"Insurance\",\n",
       "    \"Securities\",\n",
       "    \"Retail\",\n",
       "    \"Construction\",\n",
       "    \"Shipbuilding\",\n",
       "    \"Aerospace\",\n",
       "    \"Chemicals research and development\"\n",
       "  ],\n",
       "  \"Revenue\": null,\n",
       "  \"Timeline\": {\n",
       "    \"1938\": \"Founded by Lee Byung-chul as a trading company\",\n",
       "    \"1947\": \"Moved headquarters to Seoul\",\n",
       "    \"Late 1960s\": \"Entered electronics industry\",\n",
       "    \"1980\": \"Acquired Hanguk Jeonja Tongsin and entered telecommunications hardware\",\n",
       "    \"1982\": \"Built television assembly plant in Portugal\",\n",
       "    \"1984\": \"Built plant in New York\",\n",
       "    \"1985\": \"Built plant in Tokyo\",\n",
       "    \"1987\": \"Lee Byung-chul died, Samsung Group was separated into five business groups\",\n",
       "    \"1987\": \"United States International Trade Commission found Samsung Group sold computer chips without licenses\",\n",
       "    \"1990\": \"Samsung increasingly globalized its activities and electronics\",\n",
       "    \"1992\": \"Became the world's largest producer of memory chips\",\n",
       "    \"1993\": \"Lee Kun-hee sold off subsidiaries and downsized the company\",\n",
       "    \"1995\": \"Created its first liquid-crystal display screen\",\n",
       "    \"1996\": \"Built facility in Austin, Texas\",\n",
       "    \"1997\": \"Survived the Asian financial crisis relatively unharmed\",\n",
       "    \"2000\": \"Opened development center in Warsaw, Poland\",\n",
       "    \"2006\": \"Established S-LCD joint venture with Sony\",\n",
       "    \"2008\": \"Launched original Samsung Solstice line of smartphones\",\n",
       "    \"2010\": \"Renault Samsung was 80.1 per cent owned by Renault and 19.9 per cent owned by Samsung\",\n",
       "    \"2012\": \"Invested more than US$13 billion in Austin facility\",\n",
       "    \"2016\": \"Acquired stake of Sony in S-LCD joint venture\",\n",
       "    \"1998-2002\": \"Participated in a price cartel for DRAMs and was fined €145,727,000\",\n",
       "    \"1999\": \"Conspired to price-fix DRAM microchips in Canada\",\n",
       "    \"2002\": \"The Canadian government reopened the case and fined Samsung $120 million\",\n",
       "    \"2011\": \"Samsung companies were fined €145,727,000 for being part of a price cartel for DRAMs\",\n",
       "    \"2014\": \"The Canadian government fined Samsung $120 million for price-fixing DRAM microchips\",\n",
       "    \"2016-2018\": \"Made misleading water resistance claims for its smartphones\",\n",
       "    \"2022\": \"Australia's competition and consumer commission fined Samsung AU$14 million for misleading water resistance claims\"\n",
       "  }\n",
       "}\n",
       "```\n",
       "Note: The sentences from where I extracted the information are the same as the original context provided."
      ],
      "text/plain": [
       "<IPython.core.display.Markdown object>"
      ]
     },
     "metadata": {},
     "output_type": "display_data"
    }
   ],
   "source": [
    "extract_json(context_samsung)"
   ]
  },
  {
   "cell_type": "code",
   "execution_count": 123,
   "metadata": {},
   "outputs": [],
   "source": [
    "context_apple = \"\"\n",
    "for response in responses_apple:\n",
    "    context_apple = refine(response, context_apple)"
   ]
  },
  {
   "cell_type": "code",
   "execution_count": 125,
   "metadata": {},
   "outputs": [
    {
     "data": {
      "text/plain": [
       "7858"
      ]
     },
     "execution_count": 125,
     "metadata": {},
     "output_type": "execute_result"
    }
   ],
   "source": [
    "len(context_apple)"
   ]
  },
  {
   "cell_type": "code",
   "execution_count": 126,
   "metadata": {},
   "outputs": [
    {
     "data": {
      "text/markdown": [
       "Here is the merged summary:\n",
       "\n",
       "**Name:** Apple Inc.\n",
       "\n",
       "**Founders:** Steve Jobs, Steve Wozniak, and Ronald Wayne\n",
       "\n",
       "**Founded:** April 1, 1976 (as Apple Computer Company), incorporated on January 3, 1977\n",
       "\n",
       "**Headquarters:** Cupertino, California, USA (Apple Park); Cork, Ireland (EMEA headquarters)\n",
       "\n",
       "**Industry:** Technology, consumer electronics, software, and services\n",
       "\n",
       "**Products:** iPhone, iPad, Mac, Apple Watch, Vision Pro, Apple TV, software like iOS, iPadOS, macOS, watchOS, tvOS, and visionOS, and earlier products such as Macintosh computers, Apple II series, LaserWriter, PageMaker, PowerBook laptops, Newton tablet, QuickTake digital cameras, PowerCD portable CD audio players, speakers, Pippin video game console, eWorld online service, Apple Interactive Television Box, iPods, AirPods, Beats headphones, HomePod, Pro Display XDR, Apple Studio Display, Magic Mouse, Magic Trackpad, Magic Keyboard, Vision Pro mixed reality headset, etc.\n",
       "\n",
       "**Services:** Apple Card, Apple Pay, iCloud, Apple Music, Apple TV+, desktop publishing, software development, online services, iTunes Store, App Store, Apple Music, Apple TV+, Apple Arcade, Advertising in the App Store and Apple News app, AppleCare+ extended warranty plan, iCloud+ cloud-based data storage service, Payment services through Apple Card credit card and Apple Pay processing platform, Digital content services including Apple Books, Apple Fitness+, Apple News+, Apple TV+, and the iTunes Store, etc.\n",
       "\n",
       "**Revenue:** As of 2022, Apple was the largest technology company by revenue, with $394.3 billion, and in Q1 FY 2009, Apple's revenue was $8.16 billion. As of the end of 2023, the revenue breakdown is: Macs: 8%, iPhone: 52%, iPad: 7%, Wearables, Home and Accessories: 10%, Services: 22%.\n",
       "\n",
       "**Timeline:** (Combining both contexts)\n",
       "\n",
       "* 1976: Apple Computer Company founded by Jobs, Wozniak, and Wayne\n",
       "* 1977: Incorporated as Apple Computer, Inc.\n",
       "* 1980: Apple II introduced\n",
       "* 1984: Macintosh introduced, but sales slump due to slow performance and high price point\n",
       "* 1985: Steve Jobs and Steve Wozniak depart Apple, with Jobs going on to found NeXT\n",
       "* 1989: Apple introduces the Macintosh Classic, LC, and IIsi, which see significant sales\n",
       "* 1990: Apple introduces the PowerBook laptop and System 7 operating system\n",
       "* 1993: The Apple II series is discontinued due to cannibalization by lower-cost Macintosh models\n",
       "* 1994: Apple, IBM, and Motorola form the AIM alliance to create a new computing platform\n",
       "* 1996: Apple acquires NeXT, bringing Steve Jobs back to the company\n",
       "* 1997: Steve Jobs becomes interim CEO and begins to revamp the company's product lineup and strategy\n",
       "* 1997: Apple launches the Apple Store website and introduces a build-to-order manufacturing model\n",
       "* 2001: Steve Jobs returns as CEO\n",
       "* 2001: Apple releases Mac OS X, opens its first retail stores, and introduces the iPod\n",
       "* 2002: Apple acquires Nothing Real and Emagic, and releases GarageBand\n",
       "* 2003: Apple introduces the iTunes Store and Logic application\n",
       "* 2005: Apple announces its transition to Intel processors\n",
       "* 2006: Apple completes its transition to Intel processors and introduces Boot Camp\n",
       "* 2007: Apple renames itself Apple Inc. and introduces the iPhone and Apple TV\n",
       "* 2008: Apple launches the App Store and reaches 100 million iPod sales\n",
       "* 2009: Steve Jobs takes a medical leave of absence and Apple records its best non-holiday quarter\n",
       "* 2010: Apple introduces the iPad and reaches a market cap exceeding Microsoft's\n",
       "* 2011: Jobs resigns due to health reasons, Tim Cook takes over as CEO\n",
       "* 2011-2012: Apple releases various products, including the iPhone 4S and iPhone 5\n",
       "* August 20, 2012: Apple's market capitalization reaches a record $624 billion\n",
       "* May 2014: Apple acquires Beats Electronics for $3 billion\n",
       "* September 9, 2014: Apple introduces the Apple Watch\n",
       "* January 2016: Apple announces that over one billion Apple devices are in active use worldwide\n",
       "* June 2016: Apple is listed as the top tech company on Fortune's 500 list\n",
       "* June 2017: Apple announces the HomePod and acquires Shazam\n",
       "* September 2017: Apple announces the AirPower wireless charger\n",
       "* August 19, 2020: Apple's share price briefly tops $467.77, making it the first US company with a market capitalization of US$2 trillion\n",
       "* June 2020: Apple announces that it will transition from Intel processors to its own processors for Mac computers\n",
       "* November 2020: Apple releases the first Mac devices powered by its own processors, the Apple M1\n",
       "* April 2022: Apple opens an online store that allows customers to view repair manuals and order replacement parts for specific iPhones\n",
       "* 2022: Apple becomes the largest technology company by revenue, with $394.3 billion, and reaches a market capitalization of over $3 trillion\n",
       "* 2023: Apple launches a buy now, pay later service called 'Apple Pay Later'\n",
       "* 2024: Apple introduces Apple Intelligence to incorporate on-device artificial intelligence capabilities\n",
       "\n",
       "**Additional Notes:**\n",
       "\n",
       "* Apple has a strong brand and is known for its innovative products and services.\n",
       "* The company has a significant retail presence, with over 500 stores globally.\n",
       "* Apple has taken a pro-privacy stance, introducing features such as encryption and differential privacy.\n",
       "* The company has faced criticism and lawsuits over its practices, including allegations of colluding with wholesalers and tracking users' data.\n",
       "* Apple has also faced controversy over its biometric authentication technology and child sexual abuse material detection features.\n",
       "* Apple's management team includes Tim Cook as CEO and other executives\n",
       "* The company has a strong culture of corporate secrecy and has an anti-leak Global Security team\n",
       "* Apple has a global presence with offices and campuses in the US, Ireland, and other countries\n",
       "* The company has a reputation for fostering individuality and excellence, and has been recognized as one of the best places to work by Glassdoor.\n",
       "\n",
       "**Additional Information:**\n",
       "\n",
       "* Apple has been involved in various legal proceedings and claims, including patent infringement lawsuits and tax disputes.\n",
       "* Apple has created subsidiaries in low-tax countries to reduce its tax liability.\n",
       "* Apple has been criticized for its tax avoidance tactics, including its use of the \"Double Irish with a Dutch sandwich\" accounting technique.\n",
       "* Apple has partnered with Product Red, a fundraising campaign for AIDS charity.\n",
       "* Apple is a partner of the World Wide Fund for Nature (WWF) to protect wildlife and the environment.\n",
       "* Apple contributes financially to fundraisers in times of natural disasters, such as hurricanes and earthquakes.\n",
       "* Apple has made significant efforts to reduce its environmental impact, including switching to 100% renewable energy, reducing water usage, and increasing recycling efforts.\n",
       "* Apple has committed to becoming carbon neutral across its entire business, manufacturing supply chain, and product life cycle by 2030.\n",
       "* 2006: Apple launches investigation into working conditions at factories in Shenzhen, China\n",
       "* 2007: Apple starts yearly audits of suppliers regarding worker's rights\n",
       "* 2008: Apple eliminates PVC and BFRs from product lines\n",
       "* 2009: Apple introduces mercury-free LED-backlit LCD displays and arsenic-free glass in products\n",
       "* 2011: Apple admits suppliers' child labor practices in China have worsened\n",
       "* 2012: Apple opens iOS app development center in Bangalore, India, and maps development office in Hyderabad\n",
       "* 2016: Apple announces commitment to power all glass production with 100% renewable energy by 2018\n",
       "* 2020: Apple announces plan to become carbon neutral across its entire business, manufacturing supply chain, and product life cycle by 2030\n",
       "* 2021: Apple starts $200 million fund to combat climate change\n",
       "* 2022: Apple's revenue in Russia amounts to 85 billion rubles\n",
       "* 2023: Apple announces dropping leather from product lines due to significant carbon footprint"
      ],
      "text/plain": [
       "<IPython.core.display.Markdown object>"
      ]
     },
     "execution_count": 126,
     "metadata": {},
     "output_type": "execute_result"
    }
   ],
   "source": [
    "Markdown(context_apple)"
   ]
  },
  {
   "cell_type": "code",
   "execution_count": 149,
   "metadata": {},
   "outputs": [
    {
     "data": {
      "text/markdown": [
       "Here is the extracted information in JSON format:\n",
       "\n",
       "```\n",
       "{\n",
       "  \"Name\": \"Apple Inc.\",\n",
       "  \"Founders\": [\"Steve Jobs\", \"Steve Wozniak\", \"Ronald Wayne\"],\n",
       "  \"Founded\": \"01-04-1976\",\n",
       "  \"Headquarters\": [\"Cupertino, California, USA\", \"Cork, Ireland\"],\n",
       "  \"Industry\": \"Technology, consumer electronics, software, and services\",\n",
       "  \"Products\": [\n",
       "    \"iPhone\",\n",
       "    \"iPad\",\n",
       "    \"Mac\",\n",
       "    \"Apple Watch\",\n",
       "    \"Vision Pro\",\n",
       "    \"Apple TV\",\n",
       "    \"software like iOS, iPadOS, macOS, watchOS, tvOS, and visionOS\",\n",
       "    \"earlier products such as Macintosh computers, Apple II series, LaserWriter, PageMaker, PowerBook laptops, Newton tablet, QuickTake digital cameras, PowerCD portable CD audio players, speakers, Pippin video game console, eWorld online service, Apple Interactive Television Box, iPods, AirPods, Beats headphones, HomePod, Pro Display XDR, Apple Studio Display, Magic Mouse, Magic Trackpad, Magic Keyboard, Vision Pro mixed reality headset, etc.\"\n",
       "  ],\n",
       "  \"Services\": [\n",
       "    \"Apple Card\",\n",
       "    \"Apple Pay\",\n",
       "    \"iCloud\",\n",
       "    \"Apple Music\",\n",
       "    \"Apple TV+\",\n",
       "    \"desktop publishing\",\n",
       "    \"software development\",\n",
       "    \"online services\",\n",
       "    \"iTunes Store\",\n",
       "    \"App Store\",\n",
       "    \"Apple Music\",\n",
       "    \"Apple TV+\",\n",
       "    \"Apple Arcade\",\n",
       "    \"Advertising in the App Store and Apple News app\",\n",
       "    \"AppleCare+ extended warranty plan\",\n",
       "    \"iCloud+ cloud-based data storage service\",\n",
       "    \"Payment services through Apple Card credit card and Apple Pay processing platform\",\n",
       "    \"Digital content services including Apple Books, Apple Fitness+, Apple News+, Apple TV+, and the iTunes Store, etc.\"\n",
       "  ],\n",
       "  \"Revenue\": 394300000000,\n",
       "  \"Timeline\": {\n",
       "    \"1976\": \"Apple Computer Company founded by Jobs, Wozniak, and Wayne\",\n",
       "    \"1977\": \"Incorporated as Apple Computer, Inc.\",\n",
       "    \"1980\": \"Apple II introduced\",\n",
       "    \"1984\": \"Macintosh introduced, but sales slump due to slow performance and high price point\",\n",
       "    \"1985\": \"Steve Jobs and Steve Wozniak depart Apple, with Jobs going on to found NeXT\",\n",
       "    \"1989\": \"Apple introduces the Macintosh Classic, LC, and IIsi, which see significant sales\",\n",
       "    \"1990\": \"Apple introduces the PowerBook laptop and System 7 operating system\",\n",
       "    \"1993\": \"The Apple II series is discontinued due to cannibalization by lower-cost Macintosh models\",\n",
       "    \"1994\": \"Apple, IBM, and Motorola form the AIM alliance to create a new computing platform\",\n",
       "    \"1996\": \"Apple acquires NeXT, bringing Steve Jobs back to the company\",\n",
       "    \"1997\": \"Steve Jobs becomes interim CEO and begins to revamp the company's product lineup and strategy\",\n",
       "    \"1997\": \"Apple launches the Apple Store website and introduces a build-to-order manufacturing model\",\n",
       "    \"2001\": \"Steve Jobs returns as CEO\",\n",
       "    \"2001\": \"Apple releases Mac OS X, opens its first retail stores, and introduces the iPod\",\n",
       "    \"2002\": \"Apple acquires Nothing Real and Emagic, and releases GarageBand\",\n",
       "    \"2003\": \"Apple introduces the iTunes Store and Logic application\",\n",
       "    \"2005\": \"Apple announces its transition to Intel processors\",\n",
       "    \"2006\": \"Apple completes its transition to Intel processors and introduces Boot Camp\",\n",
       "    \"2007\": \"Apple renames itself Apple Inc. and introduces the iPhone and Apple TV\",\n",
       "    \"2008\": \"Apple launches the App Store and reaches 100 million iPod sales\",\n",
       "    \"2009\": \"Steve Jobs takes a medical leave of absence and Apple records its best non-holiday quarter\",\n",
       "    \"2010\": \"Apple introduces the iPad and reaches a market cap exceeding Microsoft's\",\n",
       "    \"2011\": \"Jobs resigns due to health reasons, Tim Cook takes over as CEO\",\n",
       "    \"2011-2012\": \"Apple releases various products, including the iPhone 4S and iPhone 5\",\n",
       "    \"August 20, 2012\": \"Apple's market capitalization reaches a record $624 billion\",\n",
       "    \"May 2014\": \"Apple acquires Beats Electronics for $3 billion\",\n",
       "    \"September 9, 2014\": \"Apple introduces the Apple Watch\",\n",
       "    \"January 2016\": \"Apple announces that over one billion Apple devices are in active use worldwide\",\n",
       "    \"June 2016\": \"Apple is listed as the top tech company on Fortune's 500 list\",\n",
       "    \"June 2017\": \"Apple announces the HomePod and acquires Shazam\",\n",
       "    \"September 2017\": \"Apple announces the AirPower wireless charger\",\n",
       "    \"August 19, 2020\": \"Apple's share price briefly tops $467.77, making it the first US company with a market capitalization of US$2 trillion\",\n",
       "    \"June 2020\": \"Apple announces that it will transition from Intel processors to its own processors for Mac computers\",\n",
       "    \"November 2020\": \"Apple releases the first Mac devices powered by its own processors, the Apple M1\",\n",
       "    \"April 2022\": \"Apple opens an online store that allows customers to view repair manuals and order replacement parts for specific iPhones\",\n",
       "    \"2022\": \"Apple becomes the largest technology company by revenue, with $394.3 billion, and reaches a market capitalization of over $3 trillion\",\n",
       "    \"2023\": \"Apple launches a buy now, pay later service called 'Apple Pay Later'\",\n",
       "    \"2024\": \"Apple introduces Apple Intelligence to incorporate on-device artificial intelligence capabilities\"\n",
       "  }\n",
       "}\n",
       "```\n",
       "\n",
       "Note: I have followed the instructions and extracted the required information from the context. I have also cited the sentences from where I extracted the information in the JSON object."
      ],
      "text/plain": [
       "<IPython.core.display.Markdown object>"
      ]
     },
     "metadata": {},
     "output_type": "display_data"
    }
   ],
   "source": [
    "extract_json(context_apple)"
   ]
  },
  {
   "cell_type": "markdown",
   "metadata": {},
   "source": [
    "## Attempting to chunk the data into smaller chunks hoping to capture more details and sentence specific details"
   ]
  },
  {
   "cell_type": "code",
   "execution_count": 150,
   "metadata": {},
   "outputs": [],
   "source": [
    "from langchain.text_splitter import RecursiveCharacterTextSplitter\n",
    "\n",
    "text = samsung_html_content\n",
    "\n",
    "# Create an instance of RecursiveCharacterTextSplitter\n",
    "granule_splitter = RecursiveCharacterTextSplitter(\n",
    "    chunk_size=2000,\n",
    "    chunk_overlap=200\n",
    ")"
   ]
  },
  {
   "cell_type": "code",
   "execution_count": 151,
   "metadata": {},
   "outputs": [],
   "source": [
    "samsung_chunks_granular = granule_splitter.create_documents([samsung_html_content])"
   ]
  },
  {
   "cell_type": "code",
   "execution_count": 152,
   "metadata": {},
   "outputs": [],
   "source": [
    "responses_samsung_granular = []\n",
    "for i, chunk in enumerate(samsung_chunks_granular):\n",
    "    responses_samsung_granular.append(process_chunk_with_llm(chunk, llm))"
   ]
  },
  {
   "cell_type": "code",
   "execution_count": 196,
   "metadata": {},
   "outputs": [],
   "source": [
    "context_samsung_granular = \"\"\n",
    "for response in responses_samsung_granular:\n",
    "    context_samsung_granular = refine(response, context)"
   ]
  },
  {
   "cell_type": "code",
   "execution_count": 197,
   "metadata": {},
   "outputs": [
    {
     "data": {
      "text/plain": [
       "2996"
      ]
     },
     "execution_count": 197,
     "metadata": {},
     "output_type": "execute_result"
    }
   ],
   "source": [
    "len(context_samsung_granular)"
   ]
  },
  {
   "cell_type": "code",
   "execution_count": 198,
   "metadata": {},
   "outputs": [
    {
     "data": {
      "text/markdown": [
       "Here is the merged summary that retains all critical points and provides a clear, concise, and accurate representation of the combined information:\n",
       "\n",
       "**Name:** Samsung Group\n",
       "\n",
       "**Founders:** Lee Byung-chul\n",
       "\n",
       "**Founded:** 1938\n",
       "\n",
       "**Headquarters:** Samsung Digital City, Suwon, South Korea\n",
       "\n",
       "**Industry:** Conglomerate, Electronics, Construction, Shipbuilding, Insurance, Securities, Retail, Aerospace, Chemicals\n",
       "\n",
       "**Products:** Electronics devices, semiconductors, mobile phones, construction equipment, shipbuilding materials, insurance services, securities, retail products, aircraft engines and gas turbines, chemicals, DRAM microchips, smartphones (Galaxy S7, S7 Edge, A5, A7, S8, S8 Plus, Note 8), printers, MP3 players, gaming consoles, cameras\n",
       "\n",
       "**Services:** Trading, insurance, securities, retail, construction, shipbuilding, aerospace, chemicals research and development\n",
       "\n",
       "**Revenue:** Not specified\n",
       "\n",
       "**Timeline:**\n",
       "\n",
       "* 1938: Founded by Lee Byung-chul as a trading company\n",
       "* 1947: Moved headquarters to Seoul\n",
       "* Late 1960s: Entered electronics industry\n",
       "* 1980: Acquired Hanguk Jeonja Tongsin and entered telecommunications hardware\n",
       "* 1982: Built television assembly plant in Portugal\n",
       "* 1984: Built plant in New York\n",
       "* 1985: Built plant in Tokyo\n",
       "* 1987: Lee Byung-chul died, Samsung Group was separated into five business groups\n",
       "* 1987: United States International Trade Commission found Samsung Group sold computer chips without licenses\n",
       "* 1990: Samsung increasingly globalized its activities and electronics\n",
       "* 1992: Became the world's largest producer of memory chips\n",
       "* 1993: Lee Kun-hee sold off subsidiaries and downsized the company\n",
       "* 1995: Created its first liquid-crystal display screen\n",
       "* 1996: Built facility in Austin, Texas\n",
       "* 1997: Survived the Asian financial crisis relatively unharmed\n",
       "* 2000: Opened development center in Warsaw, Poland\n",
       "* 2002: The price fix was investigated, and the recession led to the price fix ending (DRAM microchip price-fixing scandal)\n",
       "* 2006: Established S-LCD joint venture with Sony\n",
       "* 2008: Launched original Samsung Solstice line of smartphones\n",
       "* 2010: Renault Samsung was 80.1 per cent owned by Renault and 19.9 per cent owned by Samsung\n",
       "* 2012: Invested more than US$13 billion in Austin facility\n",
       "* 2014: The Canadian government reopened the case and investigated silently (DRAM microchip price-fixing scandal)\n",
       "* 2016: Acquired stake of Sony in S-LCD joint venture\n",
       "* 2016-2018: Samsung advertised its smartphones as water-resistant, but users reported issues after water submersion\n",
       "* 2022: Australia's competition and consumer commission fined Samsung AU$14 million for misleading water resistance claims\n",
       "\n",
       "Overall, Samsung Group is a major conglomerate with a diverse range of businesses and operations across various industries. The company has a strong presence in the global market and has faced several challenges and controversies over the years, including price-fixing, misleading advertising, and funding pro-government demonstrations in South Korea."
      ],
      "text/plain": [
       "<IPython.core.display.Markdown object>"
      ]
     },
     "execution_count": 198,
     "metadata": {},
     "output_type": "execute_result"
    }
   ],
   "source": [
    "Markdown(context_samsung_granular)"
   ]
  },
  {
   "cell_type": "code",
   "execution_count": 192,
   "metadata": {},
   "outputs": [
    {
     "data": {
      "text/markdown": [
       "Here is the extracted information in JSON format:\n",
       "\n",
       "```\n",
       "{\n",
       "  \"Name\": \"Samsung Group\",\n",
       "  \"Founders\": \"Lee Byung-chul\",\n",
       "  \"Founded\": 1938,\n",
       "  \"Headquarters\": \"Samsung Digital City, Suwon, South Korea\",\n",
       "  \"Industry\": \"Conglomerate, Electronics, Construction, Shipbuilding, Insurance, Securities, Retail, Aerospace, Chemicals\",\n",
       "  \"Products\": \"Electronics devices, semiconductors, mobile phones, construction equipment, shipbuilding materials, insurance services, securities, retail products, aircraft engines and gas turbines, chemicals\",\n",
       "  \"Services\": \"Trading, insurance, securities, retail, construction, shipbuilding, aerospace, chemicals research and development\",\n",
       "  \"Revenue\": null,\n",
       "  \"Timeline\": {\n",
       "    \"1938\": \"Founded by Lee Byung-chul as a trading company\",\n",
       "    \"1947\": \"Moved headquarters to Seoul\",\n",
       "    \"Late 1960s\": \"Entered electronics industry\",\n",
       "    \"1980\": \"Acquired Hanguk Jeonja Tongsin and entered telecommunications hardware\",\n",
       "    \"1982\": \"Built television assembly plant in Portugal\",\n",
       "    \"1984\": \"Built plant in New York\",\n",
       "    \"1985\": \"Built plant in Tokyo\",\n",
       "    \"1987\": \"Lee Byung-chul died, Samsung Group was separated into five business groups\",\n",
       "    \"1987\": \"United States International Trade Commission found Samsung Group sold computer chips without licenses\",\n",
       "    \"1990\": \"Samsung increasingly globalized its activities and electronics\",\n",
       "    \"1992\": \" Became the world's largest producer of memory chips\",\n",
       "    \"1993\": \"Lee Kun-hee sold off subsidiaries and downsized the company\",\n",
       "    \"1995\": \"Created its first liquid-crystal display screen\",\n",
       "    \"1996\": \"Built facility in Austin, Texas\",\n",
       "    \"1997\": \"Survived the Asian financial crisis relatively unharmed\",\n",
       "    \"2000\": \"Opened development center in Warsaw, Poland\",\n",
       "    \"2006\": \"Established S-LCD joint venture with Sony\",\n",
       "    \"2008\": \"Launched original Samsung Solstice line of smartphones\",\n",
       "    \"2010\": \"Renault Samsung was 80.1 per cent owned by Renault and 19.9 per cent owned by Samsung\",\n",
       "    \"2012\": \"Invested more than US$13 billion in Austin facility\",\n",
       "    \"2014\": \"The Canadian government reopened the case and investigated silently\",\n",
       "    \"2016\": \"Acquired stake of Sony in S-LCD joint venture\",\n",
       "    \"2016-2018\": \"Samsung advertised its smartphones as water-resistant, but users reported issues after water submersion\",\n",
       "    \"2022\": \"Australia's competition and consumer commission fined Samsung AU$14 million for misleading water resistance claims\"\n",
       "  }\n",
       "}\n",
       "```\n",
       "\n",
       "Note: The JSON object only includes the information present in the provided context, and the sentences referenced are from the original context text."
      ],
      "text/plain": [
       "<IPython.core.display.Markdown object>"
      ]
     },
     "metadata": {},
     "output_type": "display_data"
    }
   ],
   "source": [
    "extract_json(context_samsung_granular)"
   ]
  },
  {
   "cell_type": "code",
   "execution_count": 157,
   "metadata": {},
   "outputs": [],
   "source": [
    "apple_chunks_granular = granule_splitter.create_documents([apple_html_content])"
   ]
  },
  {
   "cell_type": "code",
   "execution_count": 158,
   "metadata": {},
   "outputs": [],
   "source": [
    "responses_apple_granular = []\n",
    "for i, chunk in enumerate(apple_chunks_granular):\n",
    "    responses_apple_granular.append(process_chunk_with_llm(chunk, llm))"
   ]
  },
  {
   "cell_type": "code",
   "execution_count": 164,
   "metadata": {},
   "outputs": [
    {
     "data": {
      "text/plain": [
       "\"Here is the summarized context:\\n\\n**Name:** Apple Inc.\\n\\n**Founders:** Steve Wozniak and Steve Jobs\\n\\n**Founded:** April 1, 1976 (as Apple Computer Company), incorporated in 1977\\n\\n**Headquarters:** Cupertino, California, Silicon Valley\\n\\n**Industry:** Technology, Consumer Electronics, Software, Services\\n\\n**Products:** iPhone, iPad, Mac, Apple Watch, Vision Pro, Apple TV\\n\\n**Services:** Apple Card, Apple Pay, iCloud, Apple Music, Apple TV+\\n\\n**Revenue:** $394.3 billion (2022)\\n\\n**Timeline:**\\n\\n* 1976: Founded as Apple Computer Company\\n* 1977: Incorporated\\n* 1983: Introduced the Lisa\\n* 1984: Introduced the Macintosh\\n* 1985: Steve Jobs left Apple to form NeXT, Inc.\\n* 1990s: Market for personal computers expanded, Apple lost market share to Wintel duopoly\\n* 2011: Became the world's largest company by market capitalization\\n* 2022: Largest technology company by revenue\\n* 2023: Fourth-largest personal computer vendor by unit sales, largest manufacturing company by revenue, and largest vendor of mobile phones in the world\\n\\nThis summary combines the information from the provided text to provide an accurate and concise overview of Apple Inc.\""
      ]
     },
     "execution_count": 164,
     "metadata": {},
     "output_type": "execute_result"
    }
   ],
   "source": [
    "responses_apple_granular[0]"
   ]
  },
  {
   "cell_type": "code",
   "execution_count": 171,
   "metadata": {},
   "outputs": [],
   "source": [
    "context_apple_granular = \"\"\n",
    "for response in responses_apple_granular:\n",
    "    context_apple_granular = refine(response, context_apple_granular)"
   ]
  },
  {
   "cell_type": "code",
   "execution_count": 172,
   "metadata": {},
   "outputs": [
    {
     "data": {
      "text/plain": [
       "5113"
      ]
     },
     "execution_count": 172,
     "metadata": {},
     "output_type": "execute_result"
    }
   ],
   "source": [
    "len(context_apple_granular)"
   ]
  },
  {
   "cell_type": "code",
   "execution_count": 173,
   "metadata": {},
   "outputs": [
    {
     "data": {
      "text/markdown": [
       "Here is the merged summary:\n",
       "\n",
       "**Company Information**\n",
       "\n",
       "* Name: Apple Inc.\n",
       "* Founders: Steve Jobs, Steve Wozniak, and Ronald Wayne (initially), and later John Sculley\n",
       "* Founded: April 1, 1976\n",
       "* Headquarters: Apple Park, Cupertino, California (opened in 2017) and previously Apple Campus, Cupertino, California (opened in 1993)\n",
       "* Industry: Technology\n",
       "* Products: A wide range of products including Apple I, Apple II, iMac, iPod, iPhone, iPad, Macintosh computers, PowerBook laptops, System 7 operating system, and others, including Smartphones, consumer computers, tablets, iPhone models, Power Macs, and others\n",
       "* Services: Apple Music, Apple TV+, Apple Arcade, Online Music Store (iTunes Store), Boot Camp, App Store, FaceTime, Music and Video Streaming, Cloud-synced data with iCloud, Software assistant Siri, Music streaming, online apps, Advertising, Extended Warranty Plan, Cloud-based Data Storage, Payment Services, Digital Content Services, and others, iOS app development, maps development, manufacturing\n",
       "* Revenue: Over $3.2 trillion (2024), Over $233 billion (2015), Approximately 8% of the company's revenue comes from Macintosh computers (as of the end of 2023), and $170 billion (2013), $83 billion (2022 Q3), $234 billion (as of 2016), $265 billion (2020), and $85 billion rubles in Russia in 2022\n",
       "* Timeline: The timeline includes the following events:\n",
       "\t+ 1976: Apple Computer Company founded as a partnership by Jobs, Wozniak, and Wayne\n",
       "\t+ 1976: Wozniak debuts the first prototype Apple I at the Homebrew Computer Club\n",
       "\t+ 1977: Apple Computer, Inc. is incorporated, without Wayne\n",
       "\t+ 1977-1980: Revenues grow exponentially, doubling about every four months\n",
       "\t+ 2011: Ron Johnson resigned as Senior Vice President of Retail Operations\n",
       "\t+ 2011: Scott Forstall resigned as iOS senior vice president\n",
       "\t+ 2009: Apple ranked as the 19th best place to work\n",
       "\t+ 2011: Steve Jobs presents proposal for Apple Park to the Cupertino City Council\n",
       "\t+ 2012: Apple ranked as the 10th best place to work\n",
       "\t+ 2014: Apple's SEC filing reports approximately half of its employees work in retail\n",
       "\t+ 2015: Apple has 110,000 full-time employees\n",
       "\t+ 2016: Apple has 116,000 full-time employees\n",
       "\t+ 2017: Apple announces 123,000 full-time employees; Apple Park opens\n",
       "\t+ 2023: Bloomberg reveals the existence of Apple's Exploratory Design Group (XDG)\n",
       "\t+ Apple initially refused to adopt prevailing industry standards, instead creating its own. However, this trend was reversed in the late 1990s, and Apple has since joined industry standards groups to influence technology standards.\n",
       "\t+ Apple has been gradually expanding its efforts in the Indian market. In 2012, CEO Tim Cook expressed interest in the region but noted the challenges of manufacturing products there due to requirements such as the 30% local manufacturing requirement. In 2016, Apple opened an iOS app development center and a maps development office in India. The company began manufacturing iPhone models in India in 2016 and 2019. In 2020, Tim Cook announced the opening of Apple's first physical outlet in India in 2021 and an online store by the end of the year.\n",
       "\t+ Apple has been involved in controversies related to working conditions at its suppliers' factories, particularly Foxconn, a contract electronics manufacturer in China.\n",
       "\t+ In 2006, Apple launched an investigation into working conditions at a Foxconn factory in Shenzhen, China, after a media report revealed poor working conditions, including long hours and low wages.\n",
       "\t+ Apple began yearly audits of its suppliers to ensure acceptable working conditions and raised standards.\n",
       "\t+ In 2010, 18 Foxconn employees attempted suicide, resulting in 14 deaths. Apple investigated the company's employment practices.\n",
       "\t+ In 2011, Apple admitted that its suppliers' child labor practices in China had worsened.\n",
       "\t+ 2010: Apple published a statement after a probe into its suppliers' labor practices, revealing serious labor violations and child labor in some factories. Apple committed to implementing changes.\n",
       "\t+ 2010: Workers in China planned to sue iPhone contractors over poisoning by a cleaner used to clean LCD screens.\n",
       "\t+ 2010: Foxconn facility in China reported a high suicide rate, with workers forced to sign a legally binding document guaranteeing they wouldn't kill themselves.\n",
       "\t+ 2014: A BBC investigation found that excessive hours and other problems persisted at Apple's factories, including the Pegatron factory, despite Apple's promise to reform factory practice.\n",
       "\t+ Zhen Ding Technology, a company that manufactures circuit boards for Apple's iPhone and iPad, has been involved in labor issues. In 2014, a report published by Institute for Global Labour and Human Rights documented inhumane conditions for workers at Zhen Ding Technology factory, including 65-hour work weeks, overcrowded and unsanitary dorms, and harassment by security personnel. In 2019, reports emerged of Foxconn's managers using rejected parts to build iPhones, and Apple investigated the issue.\n",
       "\n",
       "The new summary retains all critical points, providing a clear and concise representation of the combined information."
      ],
      "text/plain": [
       "<IPython.core.display.Markdown object>"
      ]
     },
     "execution_count": 173,
     "metadata": {},
     "output_type": "execute_result"
    }
   ],
   "source": [
    "Markdown(context_apple_granular)"
   ]
  },
  {
   "cell_type": "code",
   "execution_count": 183,
   "metadata": {},
   "outputs": [
    {
     "data": {
      "text/markdown": [
       "Here is the extracted information in JSON format:\n",
       "\n",
       "```\n",
       "{\n",
       "  \"Name\": \"Apple Inc.\",\n",
       "  \"Founders\": [\"Steve Jobs\", \"Steve Wozniak\", \"Ronald Wayne\", \"John Sculley\"],\n",
       "  \"Founded\": 1976,\n",
       "  \"Headquarters\": [\"Apple Park, Cupertino, California\", \"Apple Campus, Cupertino, California\"],\n",
       "  \"Industry\": \"Technology\",\n",
       "  \"Products\": [\"Apple I\", \"Apple II\", \"iMac\", \"iPod\", \"iPhone\", \"iPad\", \"Macintosh computers\", \"PowerBook laptops\", \"System 7 operating system\"],\n",
       "  \"Services\": [\"Apple Music\", \"Apple TV+\", \"Apple Arcade\", \"Online Music Store (iTunes Store)\", \"Boot Camp\", \"App Store\", \"FaceTime\", \"Music and Video Streaming\", \"Cloud-synced data with iCloud\", \"Software assistant Siri\", \"Music streaming\", \"online apps\", \"Advertising\", \"Extended Warranty Plan\", \"Cloud-based Data Storage\", \"Payment Services\", \"Digital Content Services\", \"iOS app development\", \"maps development\", \"manufacturing\"],\n",
       "  \"Revenue\": [3296210000000, 233000000000, 170000000000, 82500000000, 234000000000, 265000000000, 85000000000],\n",
       "  \"Timeline\": {\n",
       "    \"1976\": \"Apple Computer Company founded as a partnership by Jobs, Wozniak, and Wayne\",\n",
       "    \"1976\": \"Wozniak debuts the first prototype Apple I at the Homebrew Computer Club\",\n",
       "    \"1977\": \"Apple Computer, Inc. is incorporated, without Wayne\",\n",
       "    \"1977-1980\": \"Revenues grow exponentially, doubling about every four months\",\n",
       "    \"2009\": \"Apple ranked as the 19th best place to work\",\n",
       "    \"2011\": \"Ron Johnson resigned as Senior Vice President of Retail Operations\",\n",
       "    \"2011\": \"Scott Forstall resigned as iOS senior vice president\",\n",
       "    \"2011\": \"Steve Jobs presents proposal for Apple Park to the Cupertino City Council\",\n",
       "    \"2012\": \"Apple ranked as the 10th best place to work\",\n",
       "    \"2014\": \"Apple's SEC filing reports approximately half of its employees work in retail\",\n",
       "    \"2015\": \"Apple has 110,000 full-time employees\",\n",
       "    \"2016\": \"Apple has 116,000 full-time employees\",\n",
       "    \"2017\": \"Apple announces 123,000 full-time employees; Apple Park opens\",\n",
       "    \"2023\": \"Bloomberg reveals the existence of Apple's Exploratory Design Group (XDG)\"\n",
       "  }\n",
       "}\n",
       "```\n",
       "\n",
       "Note: The revenue values are in billions of US dollars, and the timeline events are in the format specified in the instruction."
      ],
      "text/plain": [
       "<IPython.core.display.Markdown object>"
      ]
     },
     "metadata": {},
     "output_type": "display_data"
    }
   ],
   "source": [
    "extract_json(context_apple_granular)"
   ]
  },
  {
   "cell_type": "code",
   "execution_count": null,
   "metadata": {},
   "outputs": [],
   "source": []
  }
 ],
 "metadata": {
  "kernelspec": {
   "display_name": "json_extraction_prompt",
   "language": "python",
   "name": "python3"
  },
  "language_info": {
   "codemirror_mode": {
    "name": "ipython",
    "version": 3
   },
   "file_extension": ".py",
   "mimetype": "text/x-python",
   "name": "python",
   "nbconvert_exporter": "python",
   "pygments_lexer": "ipython3",
   "version": "3.10.14"
  }
 },
 "nbformat": 4,
 "nbformat_minor": 2
}
