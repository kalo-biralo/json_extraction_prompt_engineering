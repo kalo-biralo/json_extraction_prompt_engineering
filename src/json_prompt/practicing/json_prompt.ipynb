{
 "cells": [
  {
   "cell_type": "code",
   "execution_count": 20,
   "metadata": {},
   "outputs": [],
   "source": [
    "import os\n",
    "from groq import Groq\n",
    "from IPython.display import display, Markdown\n",
    "import wikipediaapi\n",
    "import requests\n",
    "from bs4 import BeautifulSoup"
   ]
  },
  {
   "cell_type": "code",
   "execution_count": 21,
   "metadata": {},
   "outputs": [],
   "source": [
    "from dotenv import load_dotenv\n",
    "\n",
    "load_dotenv()\n",
    "\n",
    "os.environ[\"GROQ_API_KEY\"]=os.getenv(\"GROQ_API_KEY\")\n",
    "\n",
    "client = Groq(api_key=os.environ.get(\"GROQ_API_KEY\"))"
   ]
  },
  {
   "cell_type": "code",
   "execution_count": 22,
   "metadata": {},
   "outputs": [],
   "source": [
    "# Function to fetch Wikipedia page content in HTML format by URL\n",
    "def fetch_wikipedia_page_by_url(url):\n",
    "    headers = {\n",
    "        'User-Agent': 'prompt engineering'\n",
    "    }\n",
    "    response = requests.get(url, headers=headers)\n",
    "    if response.status_code == 200:\n",
    "        html_content = response.text\n",
    "        soup = BeautifulSoup(html_content, 'html.parser')\n",
    "        \n",
    "        # Extract the text content from the HTML, ignoring tables, images, etc.\n",
    "        paragraphs = soup.find_all('p')\n",
    "        text_content = '\\n\\n'.join([para.get_text() for para in paragraphs])\n",
    "        \n",
    "        return text_content\n",
    "    else:\n",
    "        return None"
   ]
  },
  {
   "cell_type": "code",
   "execution_count": 23,
   "metadata": {},
   "outputs": [
    {
     "name": "stdout",
     "output_type": "stream",
     "text": [
      "Content fetched!\n"
     ]
    }
   ],
   "source": [
    "# URL of the Wikipedia page you want to fetch\n",
    "url = \"https://en.wikipedia.org/wiki/Samsung\"\n",
    "\n",
    "# Fetch the HTML content of the page\n",
    "samsung_html_content = fetch_wikipedia_page_by_url(url)\n",
    "\n",
    "# Check if the content was fetched successfully and print it\n",
    "if samsung_html_content:\n",
    "    print(\"Content fetched!\")\n",
    "else:\n",
    "    print(f\"Page at '{url}' not found or could not be fetched.\")\n"
   ]
  },
  {
   "cell_type": "code",
   "execution_count": 24,
   "metadata": {},
   "outputs": [
    {
     "name": "stdout",
     "output_type": "stream",
     "text": [
      "Content fetched!\n"
     ]
    }
   ],
   "source": [
    "# URL of the Wikipedia page you want to fetch\n",
    "url = \"https://en.wikipedia.org/wiki/Apple_Inc.\"\n",
    "\n",
    "# Fetch the HTML content of the page\n",
    "apple_html_content = fetch_wikipedia_page_by_url(url)\n",
    "\n",
    "# Check if the content was fetched successfully and print it\n",
    "if apple_html_content:\n",
    "    print(\"Content fetched!\")\n",
    "else:\n",
    "    print(f\"Page at '{url}' not found or could not be fetched.\")\n"
   ]
  },
  {
   "cell_type": "markdown",
   "metadata": {},
   "source": [
    "## Few shot prompting"
   ]
  },
  {
   "cell_type": "code",
   "execution_count": 25,
   "metadata": {},
   "outputs": [],
   "source": [
    "def few_shot_prompt(context):\n",
    "    return f\"\"\"\n",
    "    Context: \n",
    "    ExampleCorp\n",
    "    Founded in 1995 by John Doe and Jane Smith. Headquarters in New York City. Major products include ExampleWidget and ExampleGadget. Services offered are ExampleConsulting and ExampleSupport. The company operates in the technology industry. Revenue of $500 million with 200 employees.\n",
    "\n",
    "    Output:\n",
    "    {{\n",
    "        \"Company\": \"ExampleCorp\",\n",
    "        \"Founded\": \"1995\",\n",
    "        \"Founders\": [\"John Doe\", \"Jane Smith\"],\n",
    "        \"Headquarters\": \"New York City\",\n",
    "        \"Products\": [\"ExampleWidget\", \"ExampleGadget\"],\n",
    "        \"Services\": [\"ExampleConsulting\", \"ExampleSupport\"],\n",
    "        \"Industry\": \"Technology\",\n",
    "        \"Revenue\": \"$500 million\",\n",
    "        \"Employees\": \"200\"\n",
    "    }}\n",
    "\n",
    "    Context: \n",
    "    TechWorks\n",
    "    Established in 2000 by Alice Johnson. Located in San Francisco. Known for TechTool and TechDevice. Provides services like TechSupport and TechTraining. Operates in the software industry. Annual revenue is $1 billion with 500 employees.\n",
    "\n",
    "    Output:\n",
    "    {{\n",
    "        \"Company\": \"TechWorks\",\n",
    "        \"Founded\": \"2000\",\n",
    "        \"Founders\": [\"Alice Johnson\"],\n",
    "        \"Headquarters\": \"San Francisco\",\n",
    "        \"Products\": [\"TechTool\", \"TechDevice\"],\n",
    "        \"Services\": [\"TechSupport\", \"TechTraining\"],\n",
    "        \"Industry\": \"Software\",\n",
    "        \"Revenue\": \"$1 billion\",\n",
    "        \"Employees\": \"500\"\n",
    "    }}\n",
    "\n",
    "    Context:\n",
    "    {context}\n",
    "\n",
    "    Output:\n",
    "    \"\"\""
   ]
  },
  {
   "cell_type": "code",
   "execution_count": 26,
   "metadata": {},
   "outputs": [
    {
     "name": "stdout",
     "output_type": "stream",
     "text": [
      "{\n",
      "    \"Company\": \"Samsung Group\",\n",
      "    \"Founded\": \"1938\",\n",
      "    \"Founders\": [\"Lee Byung-chul\"],\n",
      "    \"Headquarters\": \"Suwon, South Korea\",\n",
      "    \"Products\": [\"Electronics\", \"Semiconductors\", \"Construction\", \"Shipbuilding\", \"Medical services\"],\n",
      "    \"Services\": [\"Financial services\", \"Insurance\", \"Telecommunications\"],\n",
      "    \"Industry\": \"Multinational conglomerate\",\n",
      "    \"Revenue\": \"220 trillion KRW ($172.5 billion) (FY 2009), 280 trillion KRW ($258 billion) (FY 2010)\",\n",
      "    \"Employees\": \"Not specified\"\n",
      "}\n"
     ]
    }
   ],
   "source": [
    "# Set up the chat completion with context from the Wikipedia article\n",
    "chat_completion = client.chat.completions.create(\n",
    "    model=\"llama3-70b-8192\",\n",
    "    messages=[\n",
    "        {\n",
    "            \"role\": \"user\",\n",
    "            \"content\": few_shot_prompt(samsung_html_content[:20000])\n",
    "        }\n",
    "    ],\n",
    "    temperature=0,\n",
    "    max_tokens=1024,\n",
    "    top_p=1,\n",
    "    stop=None,\n",
    "    stream=False,\n",
    ")\n",
    "\n",
    "    \n",
    "    \n",
    "print(chat_completion.choices[0].message.content)"
   ]
  },
  {
   "cell_type": "code",
   "execution_count": 27,
   "metadata": {},
   "outputs": [
    {
     "name": "stdout",
     "output_type": "stream",
     "text": [
      "{\n",
      "    \"Company\": \"Apple Inc.\",\n",
      "    \"Founded\": \"1976\",\n",
      "    \"Founders\": [\"Steve Jobs\", \"Steve Wozniak\", \"Ronald Wayne\"],\n",
      "    \"Headquarters\": \"Cupertino, California\",\n",
      "    \"Products\": [\"iPhone\", \"iPad\", \"Mac\", \"Apple Watch\", \"Vision Pro\", \"Apple TV\", \"iOS\", \"iPadOS\", \"macOS\", \"watchOS\", \"tvOS\", \"visionOS\"],\n",
      "    \"Services\": [\"Apple Card\", \"Apple Pay\", \"iCloud\", \"Apple Music\", \"Apple TV+\"],\n",
      "    \"Industry\": \"Technology\",\n",
      "    \"Revenue\": \"$394.3 billion\",\n",
      "    \"Employees\": \"Not specified\"\n",
      "}\n"
     ]
    }
   ],
   "source": [
    "# Set up the chat completion with context from the Wikipedia article\n",
    "chat_completion = client.chat.completions.create(\n",
    "    model=\"llama3-70b-8192\",\n",
    "    messages=[\n",
    "        {\n",
    "            \"role\": \"user\",\n",
    "            \"content\": few_shot_prompt(apple_html_content[:20000])\n",
    "        }\n",
    "    ],\n",
    "    temperature=0,\n",
    "    max_tokens=1024,\n",
    "    top_p=0.8,\n",
    "    stop=None,\n",
    "    stream=False,\n",
    ")\n",
    "\n",
    "    \n",
    "    \n",
    "print(chat_completion.choices[0].message.content)"
   ]
  },
  {
   "cell_type": "markdown",
   "metadata": {},
   "source": [
    "#### ^^^ Hallicunated"
   ]
  },
  {
   "cell_type": "markdown",
   "metadata": {},
   "source": [
    "## Zero shot prompting"
   ]
  },
  {
   "cell_type": "code",
   "execution_count": 28,
   "metadata": {},
   "outputs": [],
   "source": [
    "def zero_shot_prompt(context):\n",
    "    return f\"\"\"\n",
    "###\n",
    "Context: {context}\n",
    "###\n",
    "\n",
    "Instruction: \n",
    "Extract the major points from the context in JSON format to summarize the given context. Ensure to include the specified fields along with any other pertinent information.\n",
    "Only output the JSON object.\n",
    "\n",
    "Example JSON format:\n",
    "{{\n",
    "    \"Company\": \"<company name>\",\n",
    "    \"Founded\": \"<found date>\",\n",
    "    \"Founders\": \"<founder name>\",\n",
    "    \"Headquarters\": <location>,\n",
    "    \"Products\": [<product 1>, <product 2>],\n",
    "    \"Services\": [<service 1>, <service 2>],\n",
    "    \"Industry\": <industry the company belong to>,\n",
    "    \"Revenue\": \"<revenue>,\n",
    "    \"Employees\": <number of employees>,\n",
    "}}\n",
    "REMEMBER TO ONLY OUTPUT JSON OBJECT!\n",
    "\"\"\"\n"
   ]
  },
  {
   "cell_type": "code",
   "execution_count": 29,
   "metadata": {},
   "outputs": [
    {
     "name": "stdout",
     "output_type": "stream",
     "text": [
      "{\n",
      "    \"Company\": \"Samsung Group\",\n",
      "    \"Founded\": \"1938\",\n",
      "    \"Founders\": \"Lee Byung-chul\",\n",
      "    \"Headquarters\": \"Samsung Digital City, Suwon, South Korea\",\n",
      "    \"Products\": [\"Electronics\", \"Semiconductors\", \"Construction equipment\", \"Ships\", \"Medical equipment\"],\n",
      "    \"Services\": [\"Financial services\", \"Insurance\", \"Retail\", \"Advertising\"],\n",
      "    \"Industry\": \"Multinational conglomerate\",\n",
      "    \"Revenue\": \"220 trillion KRW ($172.5 billion) in FY 2009\",\n",
      "    \"Employees\": \"Not specified\",\n",
      "    \"Subsidiaries\": [\"Samsung Electronics\", \"Samsung Heavy Industries\", \"Samsung Engineering\", \"Samsung Biologics\", \"Samsung Fire & Marine Insurance\", \"Samsung Life Insurance\"],\n",
      "    \"Notable milestones\": [\"Entered electronics industry in late 1960s\", \"Became world's largest producer of memory chips in 1992\", \"Became world's largest mobile phone maker by unit sales in 2012\"]\n",
      "}\n"
     ]
    }
   ],
   "source": [
    "# Set up the chat completion with context from the Wikipedia article\n",
    "chat_completion = client.chat.completions.create(\n",
    "    model=\"llama3-70b-8192\",\n",
    "    messages=[\n",
    "        {\n",
    "            \"role\": \"user\",\n",
    "            \"content\": zero_shot_prompt(samsung_html_content[:20000])\n",
    "        }\n",
    "    ],\n",
    "    temperature=0,\n",
    "    max_tokens=1024,\n",
    "    top_p=0.8,\n",
    "    stop=None,\n",
    "    stream=False,\n",
    ")\n",
    "\n",
    "    \n",
    "    \n",
    "print(chat_completion.choices[0].message.content)"
   ]
  },
  {
   "cell_type": "code",
   "execution_count": 30,
   "metadata": {},
   "outputs": [
    {
     "name": "stdout",
     "output_type": "stream",
     "text": [
      "{\n",
      "    \"Company\": \"Apple Inc.\",\n",
      "    \"Founded\": \"April 1, 1976\",\n",
      "    \"Founders\": [\"Steve Jobs\", \"Steve Wozniak\", \"Ronald Wayne\"],\n",
      "    \"Headquarters\": \"Cupertino, California, in Silicon Valley\",\n",
      "    \"Products\": [\"iPhone\", \"iPad\", \"Mac\", \"Apple Watch\", \"Vision Pro\", \"Apple TV\"],\n",
      "    \"Services\": [\"Apple Card\", \"Apple Pay\", \"iCloud\", \"Apple Music\", \"Apple TV+\"],\n",
      "    \"Industry\": \"Technology\",\n",
      "    \"Revenue\": \"US$394.3 billion (2022)\",\n",
      "    \"Employees\": \"Not specified\",\n",
      "    \"Major Events\": [\n",
      "        \"1977: Apple Computer, Inc. was incorporated\",\n",
      "        \"1980: Apple went public\",\n",
      "        \"1984: Introduced the Macintosh\",\n",
      "        \"1985: Steve Jobs left Apple\",\n",
      "        \"1996: Apple acquired NeXT\",\n",
      "        \"1997: Steve Jobs returned to Apple\",\n",
      "        \"1998: Introduced the iMac\",\n",
      "        \"1999: Introduced the iBook\",\n",
      "        \"2001: Released Mac OS X, opened Apple Store retail locations\"\n",
      "    ]\n",
      "}\n"
     ]
    }
   ],
   "source": [
    "# Set up the chat completion with context from the Wikipedia article\n",
    "chat_completion = client.chat.completions.create(\n",
    "    model=\"llama3-70b-8192\",\n",
    "    messages=[\n",
    "        {\n",
    "            \"role\": \"user\",\n",
    "            \"content\": zero_shot_prompt(apple_html_content[:20000])\n",
    "        }\n",
    "    ],\n",
    "    temperature=0,\n",
    "    max_tokens=1024,\n",
    "    top_p=0.8,\n",
    "    stop=None,\n",
    "    stream=False,\n",
    ")\n",
    "\n",
    "    \n",
    "    \n",
    "print(chat_completion.choices[0].message.content)"
   ]
  },
  {
   "cell_type": "markdown",
   "metadata": {},
   "source": [
    "## Chain of Thought"
   ]
  },
  {
   "cell_type": "code",
   "execution_count": 31,
   "metadata": {},
   "outputs": [],
   "source": [
    "def cot_prompt(context):\n",
    "    return f\"\"\"\n",
    "Your task is to extract information from the given context as a JSON object in JSON format. Let's think step-by-step.\n",
    "###\n",
    "Context: {context}\n",
    "###\n",
    "\n",
    "Instruction:\n",
    "You need to summarize the provided context in JSON format. Follow these steps to ensure accuracy:\n",
    "\n",
    "1. Understand the Context: Read and comprehend the provided context thoroughly.\n",
    "\n",
    "2. Extract the following information from the context; \"Name\", \"Founders\", \"Founded\", \"Headquarters\",\"Industry\", \"Products\", \"Services\", \"Revenue\", \"Timeline\".\n",
    "\n",
    "3. All Integer values should be of Integer object type.\n",
    "\n",
    "4. All date data should be in the format DD-MM-YYYY\n",
    "\n",
    "4. If any of the details are not available in the context you should display null in the value.\n",
    "\n",
    "5. Display the extracted information in a JSON format.\n",
    "\n",
    "6. Review the information to ensure that all relevant details are included and accurately represented.\n",
    "\n",
    "REMEMBER TO ONLY OUTPUT THE JSON OBJECT!\n",
    "\"\"\"\n"
   ]
  },
  {
   "cell_type": "code",
   "execution_count": 32,
   "metadata": {},
   "outputs": [
    {
     "name": "stdout",
     "output_type": "stream",
     "text": [
      "Here is the extracted information in JSON format:\n",
      "\n",
      "```\n",
      "{\n",
      "  \"Name\": \"Samsung Group\",\n",
      "  \"Founders\": \"Lee Byung-chul\",\n",
      "  \"Founded\": \"1938\",\n",
      "  \"Headquarters\": \"Samsung Digital City, Suwon, South Korea\",\n",
      "  \"Industry\": \"Multinational conglomerate\",\n",
      "  \"Products\": [\"Electronics\", \"Construction\", \"Shipbuilding\", \"Semiconductors\", \"Telecommunications\", \"Home appliances\", \"Medical services\"],\n",
      "  \"Services\": [\"Financial services\", \"Insurance\", \"Retail\", \"Advertising\", \"Biopharmaceuticals\"],\n",
      "  \"Revenue\": 258000000000,\n",
      "  \"Timeline\": {\n",
      "    \"1938\": \"Founded by Lee Byung-chul\",\n",
      "    \"1947\": \"Moved head office to Seoul\",\n",
      "    \"1954\": \"Founded Cheil Mojik, a textiles company\",\n",
      "    \"1960s\": \"Entered the electronics industry\",\n",
      "    \"1970s\": \"Entered the construction and shipbuilding industries\",\n",
      "    \"1980s\": \"Acquired the Gumi-based Hanguk Jeonja Tongsin and entered telecommunications hardware\",\n",
      "    \"1990s\": \"Globalized its activities and electronics\",\n",
      "    \"2000s\": \"Opened a development center in Warsaw, Poland\",\n",
      "    \"2010s\": \"Became the world's largest mobile phone maker by unit sales\",\n",
      "    \"2012\": \"Became the world's largest producer of memory chips\",\n",
      "    \"2015\": \"Granted more U.S. patents than any other company\",\n",
      "    \"2016\": \"Recalled the Galaxy Note 7 smartphone due to battery defects\",\n",
      "    \"2018\": \"Inaugurated the world's largest mobile manufacturing facility in Noida, India\",\n",
      "    \"2023\": \"Announced a decision to reduce the production of memory chips\"\n",
      "  }\n",
      "}\n",
      "```\n"
     ]
    }
   ],
   "source": [
    "# Set up the chat completion with context from the Wikipedia article\n",
    "chat_completion = client.chat.completions.create(\n",
    "    model=\"llama3-70b-8192\",\n",
    "    messages=[\n",
    "        {\n",
    "            \"role\": \"user\",\n",
    "            \"content\": cot_prompt(samsung_html_content[:20000])\n",
    "        }\n",
    "    ],\n",
    "    temperature=0,\n",
    "    max_tokens=1024,\n",
    "    top_p=0.8,\n",
    "    stop=None,\n",
    "    stream=False,\n",
    ")\n",
    "\n",
    "    \n",
    "    \n",
    "print(chat_completion.choices[0].message.content)"
   ]
  },
  {
   "cell_type": "code",
   "execution_count": 33,
   "metadata": {},
   "outputs": [
    {
     "name": "stdout",
     "output_type": "stream",
     "text": [
      "Here is the extracted information in JSON format:\n",
      "\n",
      "```\n",
      "{\n",
      "  \"Name\": \"Apple Inc.\",\n",
      "  \"Founders\": [\"Steve Jobs\", \"Steve Wozniak\", \"Ronald Wayne\"],\n",
      "  \"Founded\": \"01-04-1976\",\n",
      "  \"Headquarters\": \"Cupertino, California, Silicon Valley\",\n",
      "  \"Industry\": \"Technology\",\n",
      "  \"Products\": [\"iPhone\", \"iPad\", \"Mac\", \"Apple Watch\", \"Vision Pro\", \"Apple TV\"],\n",
      "  \"Services\": [\"Apple Card\", \"Apple Pay\", \"iCloud\", \"Apple Music\", \"Apple TV+\"],\n",
      "  \"Revenue\": 394300000000,\n",
      "  \"Timeline\": {\n",
      "    \"1976\": \"Apple Computer Company founded\",\n",
      "    \"1977\": \"Apple II introduced\",\n",
      "    \"1980\": \"Apple went public\",\n",
      "    \"1984\": \"Macintosh introduced\",\n",
      "    \"1985\": \"Steve Jobs left Apple\",\n",
      "    \"1996\": \"Apple acquired NeXT\",\n",
      "    \"1997\": \"Steve Jobs returned to Apple\",\n",
      "    \"1998\": \"iMac introduced\",\n",
      "    \"1999\": \"iBook introduced\",\n",
      "    \"2001\": \"Mac OS X released, Apple Store retail locations opened\"\n",
      "  }\n",
      "}\n",
      "```\n"
     ]
    }
   ],
   "source": [
    "# Set up the chat completion with context from the Wikipedia article\n",
    "chat_completion = client.chat.completions.create(\n",
    "    model=\"llama3-70b-8192\",\n",
    "    messages=[\n",
    "        {\n",
    "            \"role\": \"user\",\n",
    "            \"content\": cot_prompt(apple_html_content[:20000])\n",
    "        }\n",
    "    ],\n",
    "    temperature=0,\n",
    "    max_tokens=1024,\n",
    "    top_p=0.8,\n",
    "    stop=None,\n",
    "    stream=False,\n",
    ")\n",
    "\n",
    "    \n",
    "    \n",
    "print(chat_completion.choices[0].message.content)"
   ]
  },
  {
   "cell_type": "markdown",
   "metadata": {},
   "source": [
    "## Prompt Chaining"
   ]
  },
  {
   "cell_type": "code",
   "execution_count": 34,
   "metadata": {},
   "outputs": [],
   "source": [
    "def first_prompt_chain(context):\n",
    "    return f\"\"\"\n",
    "Your task is to extract accurate information from the given context.\n",
    "###\n",
    "{context}\n",
    "###\n",
    "You need to give a detailed summary of the given context.\n",
    "Let's think step by step.\n",
    "Step 1: Determine what the context is about.\n",
    "Step 2: Determine miscellaneous information about the company.\n",
    "Step 3: Identify the most important parts of the context in detail.\n",
    "\"\"\""
   ]
  },
  {
   "cell_type": "code",
   "execution_count": 35,
   "metadata": {},
   "outputs": [
    {
     "name": "stdout",
     "output_type": "stream",
     "text": [
      "Let's break down the context step by step.\n",
      "\n",
      "**Step 1: Determine what the context is about.**\n",
      "The context is about Apple Inc., an American multinational corporation and technology company.\n",
      "\n",
      "**Step 2: Determine miscellaneous information about the company.**\n",
      "Here are some miscellaneous facts about Apple:\n",
      "\n",
      "* Apple is headquartered in Cupertino, California, in Silicon Valley.\n",
      "* It is best known for its consumer electronics, software, and services.\n",
      "* Apple's product lineup includes the iPhone, iPad, Mac, Apple Watch, Vision Pro, and Apple TV, as well as software like iOS, iPadOS, macOS, watchOS, tvOS, and visionOS, and services like Apple Card, Apple Pay, iCloud, Apple Music, and Apple TV+.\n",
      "* Apple is one of the Big Five American information technology companies, alongside Alphabet (the parent company of Google), Amazon, Meta (the parent company of Facebook), and Microsoft.\n",
      "\n",
      "**Step 3: Identify the most important parts of the context in detail.**\n",
      "Here are the most important parts of the context:\n",
      "\n",
      "**Early History (1976-1985)**\n",
      "Apple was founded on April 1, 1976, by Steve Jobs, Steve Wozniak, and Ronald Wayne as a partnership. The company's first product was the Apple I, a computer designed and hand-built by Wozniak. In 1977, Apple introduced the Apple II, one of the first highly successful mass-produced personal computers. In 1980, Apple went public, and in 1984, the company introduced the Macintosh, a graphical user interface (GUI) computer.\n",
      "\n",
      "**Power Struggle and Departure of Founders (1985)**\n",
      "In 1985, Steve Jobs and John Sculley, who was hired as CEO in 1983, had a power struggle, which resulted in Jobs' resignation from Apple. Wozniak also quit his active employment at Apple in 1985.\n",
      "\n",
      "**Post-Jobs Era (1985-1997)**\n",
      "After Jobs' departure, Apple continued to innovate, introducing the Macintosh 512K, LaserWriter, and PageMaker, which helped create the desktop publishing market. However, the company's market share began to decline in the late 1980s and early 1990s due to increased competition from Microsoft and IBM.\n",
      "\n",
      "**Return of Steve Jobs (1997)**\n",
      "In 1996, Apple purchased NeXT, a company co-founded by Jobs, and in 1997, Jobs returned to Apple as an advisor. He eventually staged a boardroom coup, becoming interim CEO and leading the company's resurgence.\n",
      "\n",
      "**Resurgence and Innovation (1998-2001)**\n",
      "Under Jobs' leadership, Apple introduced the iMac in 1998, a highly successful all-in-one computer that helped revitalize the company. Apple also introduced the iBook laptop in 1999 and acquired several companies to create a portfolio of digital media production software. In 2001, Apple released Mac OS X, a modern operating system, and opened its first Apple Store retail locations.\n",
      "\n",
      "Overall, the context provides a detailed history of Apple's founding, early success, power struggles, decline, and eventual resurgence under Steve Jobs' leadership.\n"
     ]
    }
   ],
   "source": [
    "# Set up the chat completion with context from the Wikipedia article\n",
    "first_prompt_completion = client.chat.completions.create(\n",
    "    model=\"llama3-70b-8192\",\n",
    "    messages=[\n",
    "        {\n",
    "            \"role\": \"user\",\n",
    "            \"content\": first_prompt_chain(apple_html_content[:20000])\n",
    "        }\n",
    "    ],\n",
    "    temperature=0,\n",
    "    max_tokens=1024,\n",
    "    top_p=0.8,\n",
    "    stop=None,\n",
    "    stream=False,\n",
    ")\n",
    "\n",
    "    \n",
    "    \n",
    "print(first_prompt_completion.choices[0].message.content)"
   ]
  },
  {
   "cell_type": "code",
   "execution_count": 36,
   "metadata": {},
   "outputs": [],
   "source": [
    "def second_prompt_chain(context):\n",
    "    return f\"\"\"\n",
    "###\n",
    "{context}\n",
    "###\n",
    "You need to categorize all the related information.\n",
    "Let's think step by step.\n",
    "Step 1: Determine what the context is about.\n",
    "Step 2: Determine how many important informations is present in the context.\n",
    "Step 3: Quantify the relevant informations as much as possible.\n",
    "Step 4: Categorize all the important information by the type of info they give.\n",
    "\"\"\""
   ]
  },
  {
   "cell_type": "code",
   "execution_count": 37,
   "metadata": {},
   "outputs": [
    {
     "name": "stdout",
     "output_type": "stream",
     "text": [
      "Let's break down the context step by step.\n",
      "\n",
      "**Step 1: Determine what the context is about.**\n",
      "The context is about Apple Inc., an American multinational corporation and technology company.\n",
      "\n",
      "**Step 2: Determine how many important informations are present in the context.**\n",
      "There are 14 important pieces of information in the context.\n",
      "\n",
      "**Step 3: Quantify the relevant informations as much as possible.**\n",
      "\n",
      "1. Founding year: 1976\n",
      "2. Founders: 3 (Steve Jobs, Steve Wozniak, and Ronald Wayne)\n",
      "3. Headquarters location: Cupertino, California, in Silicon Valley\n",
      "4. Product lineup: 7 (iPhone, iPad, Mac, Apple Watch, Vision Pro, Apple TV, and software like iOS, iPadOS, macOS, watchOS, tvOS, and visionOS)\n",
      "5. Services: 7 (Apple Card, Apple Pay, iCloud, Apple Music, and Apple TV+)\n",
      "6. Big Five American information technology companies: 5 (Apple, Alphabet, Amazon, Meta, and Microsoft)\n",
      "7. Apple I introduction year: 1977\n",
      "8. Apple II introduction year: 1977\n",
      "9. IPO year: 1980\n",
      "10. Macintosh introduction year: 1984\n",
      "11. Steve Jobs' resignation year: 1985\n",
      "12. John Sculley's hiring year: 1983\n",
      "13. NeXT purchase year: 1996\n",
      "14. Steve Jobs' return year: 1997\n",
      "\n",
      "**Step 4: Categorize all the important information by the type of info they give.**\n",
      "\n",
      "**Category 1: Founding and Early History**\n",
      "\n",
      "* Founding year: 1976\n",
      "* Founders: Steve Jobs, Steve Wozniak, and Ronald Wayne\n",
      "* Apple I introduction year: 1977\n",
      "* Apple II introduction year: 1977\n",
      "\n",
      "**Category 2: Headquarters and Location**\n",
      "\n",
      "* Headquarters location: Cupertino, California, in Silicon Valley\n",
      "\n",
      "**Category 3: Products and Services**\n",
      "\n",
      "* Product lineup: iPhone, iPad, Mac, Apple Watch, Vision Pro, Apple TV, and software like iOS, iPadOS, macOS, watchOS, tvOS, and visionOS\n",
      "* Services: Apple Card, Apple Pay, iCloud, Apple Music, and Apple TV+\n",
      "\n",
      "**Category 4: Industry and Market**\n",
      "\n",
      "* Big Five American information technology companies: Apple, Alphabet, Amazon, Meta, and Microsoft\n",
      "\n",
      "**Category 5: Power Struggle and Departure of Founders**\n",
      "\n",
      "* Steve Jobs' resignation year: 1985\n",
      "* John Sculley's hiring year: 1983\n",
      "\n",
      "**Category 6: Post-Jobs Era**\n",
      "\n",
      "* IPO year: 1980\n",
      "* Macintosh introduction year: 1984\n",
      "\n",
      "**Category 7: Return of Steve Jobs and Resurgence**\n",
      "\n",
      "* NeXT purchase year: 1996\n",
      "* Steve Jobs' return year: 1997\n"
     ]
    }
   ],
   "source": [
    "# Set up the chat completion with context from the Wikipedia article\n",
    "second_prompt_completion = client.chat.completions.create(\n",
    "    model=\"llama3-70b-8192\",\n",
    "    messages=[\n",
    "        {\n",
    "            \"role\": \"user\",\n",
    "            \"content\": second_prompt_chain(first_prompt_completion.choices[0].message.content)\n",
    "        }\n",
    "    ],\n",
    "    temperature=0,\n",
    "    max_tokens=1024,\n",
    "    top_p=0.8,\n",
    "    stop=None,\n",
    "    stream=False,\n",
    ")\n",
    "\n",
    "    \n",
    "    \n",
    "print(second_prompt_completion.choices[0].message.content)"
   ]
  },
  {
   "cell_type": "code",
   "execution_count": 46,
   "metadata": {},
   "outputs": [],
   "source": [
    "def third_prompt_chain(context):\n",
    "    return f\"\"\"\n",
    "###\n",
    "{context}\n",
    "###\n",
    "You need to categorize all the related information.\n",
    "Let's think step by step.\n",
    "Step 1: Determine what the context is about.\n",
    "Step 2: Identify the categories in the context.\n",
    "Step 3: Make all the information as compact as possible.\n",
    "Step 4: Extract the following information; \"Name\", \"Founders\", \"Founded\", \"Headquarters\",\"Industry\", \"Products\", \"Services\", \"Revenue\", \"Timeline\".\n",
    "Step 4: Format all the information according to categories into a JSON object.\n",
    "\"\"\""
   ]
  },
  {
   "cell_type": "code",
   "execution_count": 47,
   "metadata": {},
   "outputs": [
    {
     "data": {
      "text/markdown": [
       "Let's break down the context step by step.\n",
       "\n",
       "**Step 1: Determine what the context is about.**\n",
       "The context is about Apple Inc., an American multinational corporation and technology company.\n",
       "\n",
       "**Step 2: Identify the categories in the context.**\n",
       "The categories in the context are:\n",
       "\n",
       "* Company Information\n",
       "* Founding and Early History\n",
       "* Headquarters and Location\n",
       "* Products and Services\n",
       "* Industry and Market\n",
       "* Power Struggle and Departure of Founders\n",
       "* Post-Jobs Era\n",
       "* Return of Steve Jobs and Resurgence\n",
       "\n",
       "**Step 3: Make all the information as compact as possible.**\n",
       "\n",
       "* Founding year: 1976\n",
       "* Founders: Steve Jobs, Steve Wozniak, and Ronald Wayne\n",
       "* Headquarters location: Cupertino, California, in Silicon Valley\n",
       "* Product lineup: iPhone, iPad, Mac, Apple Watch, Vision Pro, Apple TV, and software like iOS, iPadOS, macOS, watchOS, tvOS, and visionOS\n",
       "* Services: Apple Card, Apple Pay, iCloud, Apple Music, and Apple TV+\n",
       "* Industry: Technology\n",
       "* Timeline:\n",
       "\t+ 1976: Founded\n",
       "\t+ 1977: Apple I and Apple II introduction\n",
       "\t+ 1980: IPO\n",
       "\t+ 1983: John Sculley's hiring\n",
       "\t+ 1984: Macintosh introduction\n",
       "\t+ 1985: Steve Jobs' resignation\n",
       "\t+ 1996: NeXT purchase\n",
       "\t+ 1997: Steve Jobs' return\n",
       "\n",
       "**Step 4: Extract the following information and format it into a JSON object.**\n",
       "\n",
       "Here is the extracted information in a JSON object format:\n",
       "\n",
       "```\n",
       "{\n",
       "  \"Name\": \"Apple Inc.\",\n",
       "  \"Founders\": [\"Steve Jobs\", \"Steve Wozniak\", \"Ronald Wayne\"],\n",
       "  \"Founded\": 1976,\n",
       "  \"Headquarters\": \"Cupertino, California, in Silicon Valley\",\n",
       "  \"Industry\": \"Technology\",\n",
       "  \"Products\": [\"iPhone\", \"iPad\", \"Mac\", \"Apple Watch\", \"Vision Pro\", \"Apple TV\", \"iOS\", \"iPadOS\", \"macOS\", \"watchOS\", \"tvOS\", \"visionOS\"],\n",
       "  \"Services\": [\"Apple Card\", \"Apple Pay\", \"iCloud\", \"Apple Music\", \"Apple TV+\"],\n",
       "  \"Revenue\": null, // Not provided in the context\n",
       "  \"Timeline\": {\n",
       "    \"1976\": \"Founded\",\n",
       "    \"1977\": \"Apple I and Apple II introduction\",\n",
       "    \"1980\": \"IPO\",\n",
       "    \"1983\": \"John Sculley's hiring\",\n",
       "    \"1984\": \"Macintosh introduction\",\n",
       "    \"1985\": \"Steve Jobs' resignation\",\n",
       "    \"1996\": \"NeXT purchase\",\n",
       "    \"1997\": \"Steve Jobs' return\"\n",
       "  }\n",
       "}\n",
       "```\n",
       "\n",
       "Note: The \"Revenue\" field is left blank as it is not provided in the context."
      ],
      "text/plain": [
       "<IPython.core.display.Markdown object>"
      ]
     },
     "metadata": {},
     "output_type": "display_data"
    }
   ],
   "source": [
    "# Set up the chat completion with context from the Wikipedia article\n",
    "third_prompt_completion = client.chat.completions.create(\n",
    "    model=\"llama3-70b-8192\",\n",
    "    messages=[\n",
    "        {\n",
    "            \"role\": \"user\",\n",
    "            \"content\": third_prompt_chain(second_prompt_completion.choices[0].message.content)\n",
    "        }\n",
    "    ],\n",
    "    temperature=0,\n",
    "    max_tokens=1024,\n",
    "    top_p=0.8,\n",
    "    stop=None,\n",
    "    stream=False,\n",
    ")\n",
    "\n",
    "    \n",
    "    \n",
    "display(Markdown((third_prompt_completion.choices[0].message.content)))"
   ]
  },
  {
   "cell_type": "code",
   "execution_count": 48,
   "metadata": {},
   "outputs": [
    {
     "data": {
      "text/markdown": [
       "Let's categorize the related information step by step.\n",
       "\n",
       "**Step 1: Determine what the context is about.**\n",
       "The context is about Samsung Group, a South Korean multinational manufacturing conglomerate.\n",
       "\n",
       "**Step 2: Identify the categories in the context.**\n",
       "The categories in the context are:\n",
       "\n",
       "1. History\n",
       "2. Structure\n",
       "3. Expansion\n",
       "4. Controversies\n",
       "5. Businesses and Subsidiaries\n",
       "6. Impact on South Korea\n",
       "\n",
       "**Step 3: Make all the information as compact as possible.**\n",
       "Here is the compact information:\n",
       "\n",
       "* Founded in 1938 by Lee Byung-chul\n",
       "* Headquartered in Samsung Digital City, Suwon, South Korea\n",
       "* Industry: Multinational conglomerate\n",
       "* Products/Services: Various industries including construction, consumer electronics, financial services, shipbuilding, and medical services\n",
       "* Revenue: Equivalent to 22.4% of South Korea's GDP\n",
       "* Timeline:\n",
       "\t+ 1938: Founded as a trading company\n",
       "\t+ 1960s: Entered electronics industry\n",
       "\t+ 1970s: Entered construction and shipbuilding industries\n",
       "\t+ 1980s: Began investing heavily in research and development\n",
       "\t+ 1987: Separated into five business groups after Lee's death\n",
       "\t+ 2020: World's eighth-highest brand value\n",
       "\n",
       "**Step 4: Extract and format the information into a JSON object.**\n",
       "Here is the formatted information in a JSON object:\n",
       "\n",
       "```\n",
       "{\n",
       "  \"Name\": \"Samsung Group\",\n",
       "  \"Founders\": \"Lee Byung-chul\",\n",
       "  \"Founded\": \"1938\",\n",
       "  \"Headquarters\": \"Samsung Digital City, Suwon, South Korea\",\n",
       "  \"Industry\": \"Multinational conglomerate\",\n",
       "  \"Products/Services\": [\n",
       "    \"Construction\",\n",
       "    \"Consumer electronics\",\n",
       "    \"Financial services\",\n",
       "    \"Shipbuilding\",\n",
       "    \"Medical services\"\n",
       "  ],\n",
       "  \"Revenue\": \"Equivalent to 22.4% of South Korea's GDP\",\n",
       "  \"Timeline\": {\n",
       "    \"1938\": \"Founded as a trading company\",\n",
       "    \"1960s\": \"Entered electronics industry\",\n",
       "    \"1970s\": \"Entered construction and shipbuilding industries\",\n",
       "    \"1980s\": \"Began investing heavily in research and development\",\n",
       "    \"1987\": \"Separated into five business groups after Lee's death\",\n",
       "    \"2020\": \"World's eighth-highest brand value\"\n",
       "  }\n",
       "}\n",
       "```\n",
       "\n",
       "Let me know if this is what you were looking for!"
      ],
      "text/plain": [
       "<IPython.core.display.Markdown object>"
      ]
     },
     "metadata": {},
     "output_type": "display_data"
    }
   ],
   "source": [
    "# Set up the chat completion with context from the Wikipedia article\n",
    "first_prompt_completion_samsung = client.chat.completions.create(\n",
    "    model=\"llama3-70b-8192\",\n",
    "    messages=[\n",
    "        {\n",
    "            \"role\": \"user\",\n",
    "            \"content\": first_prompt_chain(samsung_html_content[:20000])\n",
    "        }\n",
    "    ],\n",
    "    temperature=0,\n",
    "    max_tokens=1024,\n",
    "    top_p=0.8,\n",
    "    stop=None,\n",
    "    stream=False,\n",
    ")\n",
    "\n",
    "    \n",
    "# Set up the chat completion with context from the Wikipedia article\n",
    "second_prompt_completion_samsung = client.chat.completions.create(\n",
    "    model=\"llama3-70b-8192\",\n",
    "    messages=[\n",
    "        {\n",
    "            \"role\": \"user\",\n",
    "            \"content\": second_prompt_chain(first_prompt_completion_samsung.choices[0].message.content)\n",
    "        }\n",
    "    ],\n",
    "    temperature=0,\n",
    "    max_tokens=1024,\n",
    "    top_p=0.8,\n",
    "    stop=None,\n",
    "    stream=False,\n",
    ")\n",
    "\n",
    "    \n",
    "# Set up the chat completion with context from the Wikipedia article\n",
    "third_prompt_completion_samsung = client.chat.completions.create(\n",
    "    model=\"llama3-70b-8192\",\n",
    "    messages=[\n",
    "        {\n",
    "            \"role\": \"user\",\n",
    "            \"content\": third_prompt_chain(second_prompt_completion_samsung.choices[0].message.content)\n",
    "        }\n",
    "    ],\n",
    "    temperature=0,\n",
    "    max_tokens=1024,\n",
    "    top_p=0.8,\n",
    "    stop=None,\n",
    "    stream=False,\n",
    ")\n",
    "\n",
    "    \n",
    "    \n",
    "display(Markdown((third_prompt_completion_samsung.choices[0].message.content)))"
   ]
  },
  {
   "cell_type": "markdown",
   "metadata": {},
   "source": [
    "## Self-consistency"
   ]
  },
  {
   "cell_type": "code",
   "execution_count": 42,
   "metadata": {},
   "outputs": [],
   "source": [
    "# Set up the chat completion with context from the Wikipedia article\n",
    "responses = []\n",
    "for i in range(5):\n",
    "    _chat_completion = client.chat.completions.create(\n",
    "        model=\"llama3-70b-8192\",\n",
    "        messages=[\n",
    "            {\n",
    "                \"role\": \"user\",\n",
    "                \"content\": zero_shot_prompt(samsung_html_content[:20000])\n",
    "            }\n",
    "        ],\n",
    "        temperature=0,\n",
    "        max_tokens=1024,\n",
    "        top_p=0.8,\n",
    "        stop=None,\n",
    "        stream=False,\n",
    "    )\n",
    "    responses.append(_chat_completion)"
   ]
  },
  {
   "cell_type": "code",
   "execution_count": 43,
   "metadata": {},
   "outputs": [
    {
     "data": {
      "text/markdown": [
       "{\n",
       "    \"Company\": \"Samsung Group\",\n",
       "    \"Founded\": \"1938\",\n",
       "    \"Founders\": \"Lee Byung-chul\",\n",
       "    \"Headquarters\": \"Samsung Digital City, Suwon, South Korea\",\n",
       "    \"Products\": [\"Electronics\", \"Semiconductors\", \"Construction equipment\", \"Ships\", \"Medical equipment\"],\n",
       "    \"Services\": [\"Financial services\", \"Insurance\", \"Retail\", \"Advertising\"],\n",
       "    \"Industry\": \"Multinational conglomerate\",\n",
       "    \"Revenue\": \"220 trillion KRW ($172.5 billion) in FY 2009\",\n",
       "    \"Employees\": \"Not specified\",\n",
       "    \"Subsidiaries\": [\"Samsung Electronics\", \"Samsung Heavy Industries\", \"Samsung Engineering\", \"Samsung Biologics\", \"Samsung Fire & Marine Insurance\", \"Samsung Life Insurance\"],\n",
       "    \"Notable milestones\": [\"World's largest mobile phone maker by unit sales in 2012\", \"World's second-largest chipmaker after Intel\", \"Largest provider of general insurance in South Korea\", \"Largest provider of life insurance in South Korea\"]\n",
       "}"
      ],
      "text/plain": [
       "<IPython.core.display.Markdown object>"
      ]
     },
     "metadata": {},
     "output_type": "display_data"
    },
    {
     "name": "stdout",
     "output_type": "stream",
     "text": [
      "==================================================\n"
     ]
    },
    {
     "data": {
      "text/markdown": [
       "{\n",
       "    \"Company\": \"Samsung Group\",\n",
       "    \"Founded\": \"1938\",\n",
       "    \"Founders\": \"Lee Byung-chul\",\n",
       "    \"Headquarters\": \"Samsung Digital City, Suwon, South Korea\",\n",
       "    \"Products\": [\"Electronics\", \"Semiconductors\", \"Construction equipment\", \"Ships\", \"Aircraft engines\", \"Gas turbines\"],\n",
       "    \"Services\": [\"Financial services\", \"Insurance\", \"Retail\", \"Advertising\", \"Biopharmaceuticals\"],\n",
       "    \"Industry\": \"Conglomerate\",\n",
       "    \"Revenue\": \"220 trillion KRW (approximately $172.5 billion USD) in 2009\",\n",
       "    \"Employees\": \"Not specified\",\n",
       "    \"Subsidiaries\": [\"Samsung Electronics\", \"Samsung Heavy Industries\", \"Samsung Engineering\", \"Samsung Life Insurance\", \"Samsung Fire & Marine Insurance\", \"Samsung Biologics\", \"Samsung Bioepis\"],\n",
       "    \"Notable Achievements\": [\"World's largest mobile phone maker by unit sales in 2012\", \"World's second-largest chipmaker after Intel\", \"Largest provider of general insurance in South Korea\", \"Largest provider of life insurance in South Korea\"]\n",
       "}"
      ],
      "text/plain": [
       "<IPython.core.display.Markdown object>"
      ]
     },
     "metadata": {},
     "output_type": "display_data"
    },
    {
     "name": "stdout",
     "output_type": "stream",
     "text": [
      "==================================================\n"
     ]
    },
    {
     "data": {
      "text/markdown": [
       "{\n",
       "    \"Company\": \"Samsung Group\",\n",
       "    \"Founded\": \"1938\",\n",
       "    \"Founders\": \"Lee Byung-chul\",\n",
       "    \"Headquarters\": \"Samsung Digital City, Suwon, South Korea\",\n",
       "    \"Products\": [\"Electronics\", \"Semiconductors\", \"Construction equipment\", \"Ships\", \"Aircraft engines\", \"Gas turbines\"],\n",
       "    \"Services\": [\"Financial services\", \"Insurance\", \"Retail\", \"Advertising\", \"Biopharmaceuticals\"],\n",
       "    \"Industry\": \"Conglomerate\",\n",
       "    \"Revenue\": \"220 trillion KRW (approximately $172.5 billion USD) in 2009\",\n",
       "    \"Employees\": \"Not specified\",\n",
       "    \"Subsidiaries\": [\"Samsung Electronics\", \"Samsung Heavy Industries\", \"Samsung Engineering\", \"Samsung Life Insurance\", \"Samsung Fire & Marine Insurance\", \"Samsung Biologics\", \"Samsung Bioepis\"],\n",
       "    \"Notable Achievements\": [\"World's largest mobile phone maker by unit sales in 2012\", \"World's second-largest chipmaker after Intel\", \"Largest provider of general insurance in South Korea\", \"Largest provider of life insurance in South Korea\"]\n",
       "}"
      ],
      "text/plain": [
       "<IPython.core.display.Markdown object>"
      ]
     },
     "metadata": {},
     "output_type": "display_data"
    },
    {
     "name": "stdout",
     "output_type": "stream",
     "text": [
      "==================================================\n"
     ]
    },
    {
     "data": {
      "text/markdown": [
       "{\n",
       "    \"Company\": \"Samsung Group\",\n",
       "    \"Founded\": \"1938\",\n",
       "    \"Founders\": \"Lee Byung-chul\",\n",
       "    \"Headquarters\": \"Samsung Digital City, Suwon, South Korea\",\n",
       "    \"Products\": [\"Electronics\", \"Semiconductors\", \"Construction equipment\", \"Ships\", \"Medical equipment\"],\n",
       "    \"Services\": [\"Financial services\", \"Insurance\", \"Retail\", \"Advertising\"],\n",
       "    \"Industry\": \"Multinational conglomerate\",\n",
       "    \"Revenue\": \"220 trillion KRW ($172.5 billion) in FY 2009\",\n",
       "    \"Employees\": \"Not specified\",\n",
       "    \"Subsidiaries\": [\"Samsung Electronics\", \"Samsung Heavy Industries\", \"Samsung Engineering\", \"Samsung Biologics\", \"Samsung Fire & Marine Insurance\", \"Samsung Life Insurance\"],\n",
       "    \"Notable milestones\": [\"Entered electronics industry in late 1960s\", \"Became world's largest producer of memory chips in 1992\", \"Became world's largest mobile phone maker by unit sales in 2012\"]\n",
       "}"
      ],
      "text/plain": [
       "<IPython.core.display.Markdown object>"
      ]
     },
     "metadata": {},
     "output_type": "display_data"
    },
    {
     "name": "stdout",
     "output_type": "stream",
     "text": [
      "==================================================\n"
     ]
    },
    {
     "data": {
      "text/markdown": [
       "{\n",
       "    \"Company\": \"Samsung Group\",\n",
       "    \"Founded\": \"1938\",\n",
       "    \"Founders\": \"Lee Byung-chul\",\n",
       "    \"Headquarters\": \"Samsung Digital City, Suwon, South Korea\",\n",
       "    \"Products\": [\"Electronics\", \"Semiconductors\", \"Construction equipment\", \"Ships\", \"Aircraft engines\", \"Gas turbines\"],\n",
       "    \"Services\": [\"Financial services\", \"Insurance\", \"Retail\", \"Advertising\", \"Biopharmaceuticals\"],\n",
       "    \"Industry\": \"Conglomerate\",\n",
       "    \"Revenue\": \"220 trillion KRW (approximately $172.5 billion USD) in 2009\",\n",
       "    \"Employees\": \"Not specified\",\n",
       "    \"Subsidiaries\": [\"Samsung Electronics\", \"Samsung Heavy Industries\", \"Samsung Engineering\", \"Samsung Life Insurance\", \"Samsung Fire & Marine Insurance\", \"Samsung Biologics\", \"Samsung Bioepis\"]\n",
       "}"
      ],
      "text/plain": [
       "<IPython.core.display.Markdown object>"
      ]
     },
     "metadata": {},
     "output_type": "display_data"
    },
    {
     "name": "stdout",
     "output_type": "stream",
     "text": [
      "==================================================\n"
     ]
    }
   ],
   "source": [
    "for response in responses:\n",
    "    display(Markdown(response.choices[0].message.content))\n",
    "    print(50*\"=\")"
   ]
  },
  {
   "cell_type": "code",
   "execution_count": 44,
   "metadata": {},
   "outputs": [],
   "source": [
    "def self_consistency_prompt(responses):\n",
    "    # Create a prompt to evaluate consistency\n",
    "    return f\"\"\"\n",
    "You need to return the most consistent information in JSON format.\n",
    "\n",
    "You are given a list of several responses to the same question. Your task is to determine which information from all the responses are the most consistent with the others. \n",
    "\n",
    "Responses: {responses}\n",
    "\n",
    "Evaluate all of the information in the responses and determine the most consistent responses.\n",
    "\n",
    "Then display the most consistent response in JSON format.\n",
    "\"\"\""
   ]
  },
  {
   "cell_type": "code",
   "execution_count": 45,
   "metadata": {},
   "outputs": [
    {
     "data": {
      "text/markdown": [
       "After evaluating the responses, I found that the most consistent information is:\n",
       "\n",
       "```\n",
       "{\n",
       "    \"Company\": \"Samsung Group\",\n",
       "    \"Founded\": \"1938\",\n",
       "    \"Founders\": \"Lee Byung-chul\",\n",
       "    \"Headquarters\": \"Samsung Digital City, Suwon, South Korea\",\n",
       "    \"Products\": [\"Electronics\", \"Semiconductors\", \"Construction equipment\", \"Ships\"],\n",
       "    \"Services\": [\"Financial services\", \"Insurance\", \"Retail\", \"Advertising\"],\n",
       "    \"Industry\": \"Conglomerate\",\n",
       "    \"Revenue\": \"220 trillion KRW (approximately $172.5 billion USD) in 2009\",\n",
       "    \"Employees\": \"Not specified\",\n",
       "    \"Subsidiaries\": [\"Samsung Electronics\", \"Samsung Heavy Industries\", \"Samsung Engineering\", \"Samsung Life Insurance\", \"Samsung Fire & Marine Insurance\", \"Samsung Biologics\"],\n",
       "    \"Notable Achievements\": [\"World's largest mobile phone maker by unit sales in 2012\", \"World's second-largest chipmaker after Intel\", \"Largest provider of general insurance in South Korea\", \"Largest provider of life insurance in South Korea\"]\n",
       "}\n",
       "```\n",
       "\n",
       "This response is the most consistent because it has the most common information across all the responses, with only minor variations in the \"Products\" and \"Notable Achievements\" fields."
      ],
      "text/plain": [
       "<IPython.core.display.Markdown object>"
      ]
     },
     "metadata": {},
     "output_type": "display_data"
    }
   ],
   "source": [
    "\n",
    "consistency_evaluation = client.chat.completions.create(\n",
    "    model=\"llama3-70b-8192\",  # or your specific model\n",
    "    messages=[\n",
    "        {\n",
    "            \"role\": \"user\",\n",
    "            \"content\": self_consistency_prompt(responses)\n",
    "        }\n",
    "    ],\n",
    "    temperature=0,\n",
    "    max_tokens=1024,\n",
    "    top_p=0.8,\n",
    "    stop=None,\n",
    "    stream=False,\n",
    ")\n",
    "\n",
    "# Extract the most consistent response\n",
    "display(Markdown(consistency_evaluation.choices[0].message.content))"
   ]
  },
  {
   "cell_type": "code",
   "execution_count": null,
   "metadata": {},
   "outputs": [],
   "source": []
  }
 ],
 "metadata": {
  "kernelspec": {
   "display_name": "json_extraction_prompt",
   "language": "python",
   "name": "python3"
  },
  "language_info": {
   "codemirror_mode": {
    "name": "ipython",
    "version": 3
   },
   "file_extension": ".py",
   "mimetype": "text/x-python",
   "name": "python",
   "nbconvert_exporter": "python",
   "pygments_lexer": "ipython3",
   "version": "3.10.14"
  }
 },
 "nbformat": 4,
 "nbformat_minor": 2
}
